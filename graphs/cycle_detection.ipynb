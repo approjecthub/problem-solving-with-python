{
  "nbformat": 4,
  "nbformat_minor": 0,
  "metadata": {
    "colab": {
      "name": "cycle detection.ipynb",
      "provenance": [],
      "authorship_tag": "ABX9TyP38MBtfmcVQkBTRTMCayB6",
      "include_colab_link": true
    },
    "kernelspec": {
      "name": "python3",
      "display_name": "Python 3"
    }
  },
  "cells": [
    {
      "cell_type": "markdown",
      "metadata": {
        "id": "view-in-github",
        "colab_type": "text"
      },
      "source": [
        "<a href=\"https://colab.research.google.com/github/approjecthub/problem-solving-with-python/blob/master/graphs/cycle_detection.ipynb\" target=\"_parent\"><img src=\"https://colab.research.google.com/assets/colab-badge.svg\" alt=\"Open In Colab\"/></a>"
      ]
    },
    {
      "cell_type": "markdown",
      "metadata": {
        "id": "oS-1d1yAep_h",
        "colab_type": "text"
      },
      "source": [
        "Cycle detection using DFS in directed graph<br>https://www.geeksforgeeks.org/detect-cycle-in-a-graph/"
      ]
    },
    {
      "cell_type": "code",
      "metadata": {
        "id": "0y0JecKlZmnp",
        "colab_type": "code",
        "colab": {}
      },
      "source": [
        "def dfs_list(visit,recstack,v,g_list):\n",
        "    recstack[v] = 1\n",
        "    visit[v] = 1\n",
        "    for i in range(len(g_list[v])):\n",
        "        if visit[g_list[v][i]]==0 and dfs_list(visit,recstack,g_list[v][i], g_list):\n",
        "            return True\n",
        "        elif recstack[g_list[v][i]]==1:\n",
        "            return True\n",
        "    recstack[v] = 0\n",
        "    return False"
      ],
      "execution_count": null,
      "outputs": []
    },
    {
      "cell_type": "code",
      "metadata": {
        "id": "lErInls0dE9S",
        "colab_type": "code",
        "colab": {
          "base_uri": "https://localhost:8080/",
          "height": 34
        },
        "outputId": "95e73e7a-848d-43c0-dd84-01d104fa0e3a"
      },
      "source": [
        "edges = [(0, 1), (0, 2), (1, 2), (2, 0), (2, 3), (3, 3)]\n",
        "v = 4\n",
        "g = {}\n",
        "\n",
        "for i in range(v):\n",
        "  g[i] = []\n",
        "for e in edges:\n",
        "  g[e[0]].append(e[1])\n",
        "\n",
        "print(g)"
      ],
      "execution_count": null,
      "outputs": [
        {
          "output_type": "stream",
          "text": [
            "{0: [1, 2], 1: [2], 2: [0, 3], 3: [3]}\n"
          ],
          "name": "stdout"
        }
      ]
    },
    {
      "cell_type": "code",
      "metadata": {
        "id": "G9Qq9IsbeQKW",
        "colab_type": "code",
        "colab": {}
      },
      "source": [
        "def iscyclic(g):\n",
        "  v = len(g)\n",
        "  visit = [0]*v\n",
        "  recstack = [0]*v\n",
        "  for i in range(v):\n",
        "    if visit[i]!=1 and dfs_list(visit,recstack,start,g):\n",
        "      return True\n",
        "\n",
        "  return False"
      ],
      "execution_count": null,
      "outputs": []
    },
    {
      "cell_type": "code",
      "metadata": {
        "id": "JmDGaSd5esq6",
        "colab_type": "code",
        "colab": {
          "base_uri": "https://localhost:8080/",
          "height": 34
        },
        "outputId": "14721405-e0f3-454d-8542-5f57e1b8cd51"
      },
      "source": [
        "print(iscyclic(g))"
      ],
      "execution_count": null,
      "outputs": [
        {
          "output_type": "stream",
          "text": [
            "True\n"
          ],
          "name": "stdout"
        }
      ]
    },
    {
      "cell_type": "markdown",
      "metadata": {
        "id": "peWhSUjpl-Az",
        "colab_type": "text"
      },
      "source": [
        "Cycle detection using DFS in undirected graph<br>https://www.geeksforgeeks.org/detect-cycle-undirected-graph/?ref=rp"
      ]
    },
    {
      "cell_type": "code",
      "metadata": {
        "id": "quk1kSp2lVP5",
        "colab_type": "code",
        "colab": {
          "base_uri": "https://localhost:8080/",
          "height": 34
        },
        "outputId": "6e2a0cd1-a8d1-4601-c7bd-43454c0a1519"
      },
      "source": [
        "g1 = {0 : [1,2,3],\n",
        "     1 : [0,2],\n",
        "     2 : [0,1],\n",
        "     3 : [0,4],\n",
        "     4 : [3]}\n",
        "\n",
        "g2 = {0: [1],\n",
        "      1:[0,2],\n",
        "      2:[1]}\n",
        "\n",
        "def dfs_list(visit,recstack,v,g_list,parent):\n",
        "    #print(f'v : {v}, parent : {parent}')\n",
        "    recstack[v] = 1\n",
        "    visit[v] = 1\n",
        "    for i in range(len(g_list[v])):\n",
        "        #print(v,g_list[v][i])\n",
        "        if visit[g_list[v][i]]==0 :\n",
        "          if dfs_list(visit,recstack,g_list[v][i], g_list,v):\n",
        "            return True\n",
        "        elif  g_list[v][i]!=parent:\n",
        "            #print(v,g_list[v][i])\n",
        "            return True\n",
        "    recstack[v] = 0\n",
        "    return False\n",
        "\n",
        "def iscyclic(g):\n",
        "  #print(g)\n",
        "  v = len(g)\n",
        "  visit = [0]*v\n",
        "  recstack = [0]*v\n",
        "  for i in range(v):\n",
        "    if visit[i]!=1 and dfs_list(visit,recstack,i,g,-1):\n",
        "      return True\n",
        "\n",
        "  return False\n",
        "\n",
        "print(iscyclic(g2))"
      ],
      "execution_count": 8,
      "outputs": [
        {
          "output_type": "stream",
          "text": [
            "False\n"
          ],
          "name": "stdout"
        }
      ]
    },
    {
      "cell_type": "markdown",
      "metadata": {
        "id": "jhvAh-AT4GQF",
        "colab_type": "text"
      },
      "source": [
        "Detect cycle in an undirected graph using BFS<br>https://www.geeksforgeeks.org/detect-cycle-in-an-undirected-graph-using-bfs/?ref=rp"
      ]
    },
    {
      "cell_type": "code",
      "metadata": {
        "id": "MZrA_CEVu4J2",
        "colab_type": "code",
        "colab": {
          "base_uri": "https://localhost:8080/",
          "height": 34
        },
        "outputId": "efdef1b8-1641-49bf-dc10-fd2b4302e412"
      },
      "source": [
        "g1 = {0 : [1,2,3],\n",
        "     1 : [0,2],\n",
        "     2 : [0,1],\n",
        "     3 : [0,4],\n",
        "     4 : [3]}\n",
        "\n",
        "g2 = {0: [1],\n",
        "      1:[0,2],\n",
        "      2:[1]}\n",
        "\n",
        "def bfs(g, visit,v):\n",
        "  parent = [-1]*len(g)\n",
        "  q = []\n",
        "  q.append(v)\n",
        "  visit[v] = 1\n",
        "  while len(q)!=0:\n",
        "    \n",
        "    x = q.pop(0)\n",
        "    \n",
        "    for i in range(len(g[x])):\n",
        "      \n",
        "      if visit[g[x][i]]==0:\n",
        "        \n",
        "        visit[g[x][i]] = True\n",
        "        parent[g[x][i]] = x\n",
        "        \n",
        "        q.append(g[x][i])\n",
        "        \n",
        "      elif parent[x]!=g[x][i]:\n",
        "        \n",
        "        return True\n",
        "\n",
        "  return False\n",
        "\n",
        "def iscyclic(g):\n",
        "  v = len(g)\n",
        "  visit = [0]*v\n",
        "  for i in range(v):\n",
        "    \n",
        "    if visit[i]==0 and bfs(g, visit,i):\n",
        "     \n",
        "      return True\n",
        "\n",
        "  return False\n",
        "\n",
        "print(iscyclic(g2))"
      ],
      "execution_count": 37,
      "outputs": [
        {
          "output_type": "stream",
          "text": [
            "False\n"
          ],
          "name": "stdout"
        }
      ]
    },
    {
      "cell_type": "code",
      "metadata": {
        "id": "VvW_N_ug7YOF",
        "colab_type": "code",
        "colab": {}
      },
      "source": [
        ""
      ],
      "execution_count": null,
      "outputs": []
    }
  ]
}