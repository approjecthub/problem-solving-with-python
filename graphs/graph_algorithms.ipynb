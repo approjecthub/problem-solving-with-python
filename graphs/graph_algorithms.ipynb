{
  "nbformat": 4,
  "nbformat_minor": 0,
  "metadata": {
    "colab": {
      "name": "graph algorithms.ipynb",
      "provenance": [],
      "authorship_tag": "ABX9TyO3UfD4+9CZq95NGC3fjn5U",
      "include_colab_link": true
    },
    "kernelspec": {
      "name": "python3",
      "display_name": "Python 3"
    }
  },
  "cells": [
    {
      "cell_type": "markdown",
      "metadata": {
        "id": "view-in-github",
        "colab_type": "text"
      },
      "source": [
        "<a href=\"https://colab.research.google.com/github/approjecthub/problem-solving-with-python/blob/master/graphs/graph_algorithms.ipynb\" target=\"_parent\"><img src=\"https://colab.research.google.com/assets/colab-badge.svg\" alt=\"Open In Colab\"/></a>"
      ]
    },
    {
      "cell_type": "markdown",
      "metadata": {
        "id": "yw9AVJsK3EpM"
      },
      "source": [
        "## Topological sorting"
      ]
    },
    {
      "cell_type": "code",
      "metadata": {
        "id": "u5BLfSBv253O",
        "colab": {
          "base_uri": "https://localhost:8080/",
          "height": 34
        },
        "outputId": "110dca21-7396-4a7a-c284-2d7d4f91fb93"
      },
      "source": [
        "g = {7:[11,8],5:[11], 3:[8,10], 11:[2,9,10], 8:[9], 2:[],9:[],10:[]}\n",
        "\n",
        "#calculate indegree\n",
        "ig = {}\n",
        "for k in g:\n",
        "  ig[k] = 0\n",
        "\n",
        "for k in g:\n",
        "  for v in g[k]:\n",
        "    ig[v] += 1\n",
        "\n",
        "print(ig)"
      ],
      "execution_count": null,
      "outputs": [
        {
          "output_type": "stream",
          "text": [
            "{7: 0, 5: 0, 3: 0, 11: 2, 8: 2, 2: 1, 9: 2, 10: 2}\n"
          ],
          "name": "stdout"
        }
      ]
    },
    {
      "cell_type": "code",
      "metadata": {
        "id": "d84cgt0J3J3J",
        "colab": {
          "base_uri": "https://localhost:8080/",
          "height": 34
        },
        "outputId": "997c5726-8b9e-441a-ae89-7752651916ee"
      },
      "source": [
        "#put vertices inside the queue whose indegree is zero\n",
        "q = []\n",
        "for v in ig:\n",
        "  if ig[v]==0:\n",
        "    q.append(v)\n",
        "\n",
        "print(q)"
      ],
      "execution_count": null,
      "outputs": [
        {
          "output_type": "stream",
          "text": [
            "[7, 5, 3]\n"
          ],
          "name": "stdout"
        }
      ]
    },
    {
      "cell_type": "code",
      "metadata": {
        "id": "kV4GpVbE5Clm",
        "colab": {
          "base_uri": "https://localhost:8080/",
          "height": 34
        },
        "outputId": "5f8c96f2-9f06-4766-a688-2854e898170c"
      },
      "source": [
        "#apply bfs and decrement idegree value once parent is visited\n",
        "while len(q)!=0:\n",
        "  x = q.pop(0)\n",
        "  print(x, end=' ')\n",
        "  for v in g[x]:\n",
        "    ig[v] -= 1\n",
        "    if ig[v] == 0:\n",
        "      q.append(v)\n",
        "  "
      ],
      "execution_count": null,
      "outputs": [
        {
          "output_type": "stream",
          "text": [
            "7 5 3 11 8 2 10 9 "
          ],
          "name": "stdout"
        }
      ]
    },
    {
      "cell_type": "code",
      "metadata": {
        "id": "sxwKSR0j7qOh",
        "colab": {
          "base_uri": "https://localhost:8080/",
          "height": 34
        },
        "outputId": "bc85908f-1b6f-4078-86b0-b00935a11b93"
      },
      "source": [
        "#checking the presence of a \n",
        "label = False\n",
        "for v in ig:\n",
        "  if ig[v] != 0:\n",
        "    label = True\n",
        "    break\n",
        "if label:\n",
        "  print('cycle is present')\n",
        "else:\n",
        "  print('no cycle')"
      ],
      "execution_count": null,
      "outputs": [
        {
          "output_type": "stream",
          "text": [
            "no cycle\n"
          ],
          "name": "stdout"
        }
      ]
    },
    {
      "cell_type": "markdown",
      "metadata": {
        "id": "0q7SDRGzBAR0"
      },
      "source": [
        "## Shortest path in unweighted graph"
      ]
    },
    {
      "cell_type": "code",
      "metadata": {
        "id": "YFapG6D292ss"
      },
      "source": [
        "#weight of every edge considered as equal\n",
        "g = {'a':['b','d'], 'b':['d','e'], 'c':['a','f'], 'e':['g'], 'f':[],'g':['f'], 'd':['f','g']}\n",
        "\n",
        "#similar to bfs, two data structures are needed: queue, distance table(distance from source, name of the vertesx through which we get the shortest path)\n",
        "\n",
        "dis = {}\n",
        "path = {}\n",
        "\n",
        "src = \"c\"##initialised the source node\n",
        "\n",
        "##prepare the distance table and initialising all vertices distance as -1 except for source vertex\n",
        "for v in g:\n",
        "  if v == src:\n",
        "    dis[src] = 0\n",
        "  else:\n",
        "    dis[v] = -1"
      ],
      "execution_count": null,
      "outputs": []
    },
    {
      "cell_type": "code",
      "metadata": {
        "id": "0_8Za9iMGMpq",
        "colab": {
          "base_uri": "https://localhost:8080/",
          "height": 34
        },
        "outputId": "b7ed95ea-f88c-45e2-ff1f-8d4893a19e01"
      },
      "source": [
        "#bfs\n",
        "q = []\n",
        "q.append(src)\n",
        "while len(q)!=0:\n",
        "  x = q.pop(0)\n",
        "  \n",
        "  for v in g[x]:\n",
        "    if dis[v]==-1:#visiting each vertex only once as there is no chance to find a shorter path, as all edges have same weight\n",
        "      dis[v] = dis[x]+1\n",
        "      path[v] = x\n",
        "      q.append(v)\n",
        "\n",
        "print(dis,path)"
      ],
      "execution_count": null,
      "outputs": [
        {
          "output_type": "stream",
          "text": [
            "{'a': 1, 'b': 2, 'c': 0, 'e': 3, 'f': 1, 'g': 3, 'd': 2} {'a': 'c', 'f': 'c', 'b': 'a', 'd': 'a', 'e': 'b', 'g': 'd'}\n"
          ],
          "name": "stdout"
        }
      ]
    },
    {
      "cell_type": "markdown",
      "metadata": {
        "id": "wEscLNesLLkF"
      },
      "source": [
        "## Dijkstra algorithm"
      ]
    },
    {
      "cell_type": "code",
      "metadata": {
        "id": "u_a-LXmfHmWJ"
      },
      "source": [
        "#regular bfs can not gurantee shortest path, as the vertex at the front of the queue may not be the closest vertex from the source\n",
        "#this algo keeps the shortest distance of vertex 'v' from src\n",
        "\n",
        "from minheap import minheap\n",
        "pq = minheap()\n",
        "\n",
        "\n",
        "#directed graph\n",
        "g = {'a': [[4,'b'], [1,'c']],\n",
        "     'b': [[4,'e']],\n",
        "     'c': [[2,'b'], [4,'d']],\n",
        "     'd': [[4,'e']],\n",
        "     'e': []}\n",
        "\n",
        "'''\n",
        "#undirected graph\n",
        "g = {'0':[[4,'1'],[8,'7']],\n",
        "     '1':[[4,'0'],[8,'2'],[11,'7']],\n",
        "     '2':[[2,'8'],[7,'3'],[8,'1'],[4,'5']],\n",
        "     '3':[[7,'2'],[9,'4'],[14,'5']],\n",
        "     '4':[[9,'3'],[10,'5']],\n",
        "     '5':[[2,'6'],[4,'2'],[10,'4'],[14,'3']],\n",
        "     '6':[[1,'7'], [2,'5'],[6,'8']],\n",
        "     '7':[[1,'6'],[7,'8'],[8,'0'],[11,'1']],\n",
        "     '8':[[2,'2'],[6,'6'],[7,'7']]\n",
        "     }\n",
        "'''\n",
        "\n",
        "dis = {}\n",
        "path = {}\n",
        "\n",
        "for v in g:\n",
        "  dis[v] = -1\n",
        "\n",
        "src = 'a'\n",
        "\n",
        "dis[src] = 0\n",
        "path[src] = ''"
      ],
      "execution_count": null,
      "outputs": []
    },
    {
      "cell_type": "code",
      "metadata": {
        "id": "PpmMiqvQP1mq"
      },
      "source": [
        "pq.push((dis[src], src))\n",
        "\n",
        "while pq.size()>0:\n",
        "\n",
        "  x = pq.pop() #x =(dist,'node')\n",
        "\n",
        "  for v in g[x[1]]: #v=[weight, node]\n",
        "    d = dis[x[1]] + v[0]\n",
        "    if dis[v[1]] == -1:#node is not present inside pq\n",
        "      dis[v[1]] = d \n",
        "      pq.push((dis[v[1]],v[1]))\n",
        "      path[v[1]] = x[1]\n",
        "    else:#node is present within pq, so we have to update the value instead of pushing\n",
        "      if dis[v[1]]>d:\n",
        "        dis[v[1]] = d \n",
        "        pq.update((dis[v[1]],v[1]))\n",
        "        path[v[1]] = x[1]\n"
      ],
      "execution_count": null,
      "outputs": []
    },
    {
      "cell_type": "code",
      "metadata": {
        "id": "gHi7RzXhUOka",
        "colab": {
          "base_uri": "https://localhost:8080/",
          "height": 34
        },
        "outputId": "3f1f6b19-aafd-4809-e590-cfac837a998b"
      },
      "source": [
        "print(dis, path)"
      ],
      "execution_count": null,
      "outputs": [
        {
          "output_type": "stream",
          "text": [
            "{'a': 0, 'b': 3, 'c': 1, 'd': 5, 'e': 7} {'a': '', 'b': 'c', 'c': 'a', 'd': 'c', 'e': 'b'}\n"
          ],
          "name": "stdout"
        }
      ]
    },
    {
      "cell_type": "markdown",
      "metadata": {
        "id": "fOE94dQ_580E"
      },
      "source": [
        "## Dijkstra's algorithm(without using priority queue)"
      ]
    },
    {
      "cell_type": "code",
      "metadata": {
        "id": "snsSt4l26GFY",
        "colab": {
          "base_uri": "https://localhost:8080/",
          "height": 34
        },
        "outputId": "cfd618c2-7c41-4a5f-df49-5fdd77d55c2b"
      },
      "source": [
        "#directed graph\n",
        "g = {'a': [[4,'b'], [1,'c']],\n",
        "     'b': [[4,'e']],\n",
        "     'c': [[2,'b'], [4,'d']],\n",
        "     'd': [[4,'e']],\n",
        "     'e': []}\n",
        "'''\n",
        "\n",
        "#undirected graph\n",
        "g = {'0':[[4,'1'],[8,'7']],\n",
        "     '1':[[4,'0'],[8,'2'],[11,'7']],\n",
        "     '2':[[2,'8'],[7,'3'],[8,'1'],[4,'5']],\n",
        "     '3':[[7,'2'],[9,'4'],[14,'5']],\n",
        "     '4':[[9,'3'],[10,'5']],\n",
        "     '5':[[2,'6'],[4,'2'],[10,'4'],[14,'3']],\n",
        "     '6':[[1,'7'], [2,'5'],[6,'8']],\n",
        "     '7':[[1,'6'],[7,'8'],[8,'0'],[11,'1']],\n",
        "     '8':[[2,'2'],[6,'6'],[7,'7']]\n",
        "     }\n",
        "'''\n",
        "inf = 999999\n",
        "\n",
        "def min_vertex(vertices, visit):\n",
        "  x = inf\n",
        "  kx = ''\n",
        "  for k in vertices:\n",
        "    if visit[k]!=1 and vertices[k]<x:\n",
        "      x = vertices[k]\n",
        "      kx = k\n",
        "  return kx\n",
        "\n",
        "v = len(g)\n",
        "visit = {}\n",
        "vertices = {}\n",
        "\n",
        "for k in g:\n",
        "  visit[k] = 0\n",
        "  vertices[k] = inf\n",
        "\n",
        "src = 'a'\n",
        "vertices[src] = 0\n",
        "\n",
        "for _ in range(v):\n",
        "  kx = min_vertex(vertices, visit)\n",
        "  if kx=='':\n",
        "    break\n",
        "  visit[kx] = 1\n",
        "  for x in g[kx]:#x = (weight, vertex)\n",
        "    if vertices[x[1]]>vertices[kx]+x[0]:\n",
        "      vertices[x[1]]=vertices[kx]+x[0]\n",
        "\n",
        "print(vertices)\n"
      ],
      "execution_count": null,
      "outputs": [
        {
          "output_type": "stream",
          "text": [
            "{'a': 0, 'b': 3, 'c': 1, 'd': 5, 'e': 7}\n"
          ],
          "name": "stdout"
        }
      ]
    },
    {
      "cell_type": "markdown",
      "metadata": {
        "id": "7np5n7UiUlt3"
      },
      "source": [
        "## Bellman-Ford algorithm"
      ]
    },
    {
      "cell_type": "code",
      "metadata": {
        "id": "vF9Rs3oxUk5e"
      },
      "source": [
        "g = {'1': [[6,'2'],[5,'3'],[5,'4']],\n",
        "     '2': [[-1,'5']],\n",
        "     '3': [[-2, '2'],[1,'5']],\n",
        "     '4': [[-2,'3'],[-1,'6']],\n",
        "     '5': [[3,'7']],\n",
        "     '6': [[3, '7']],\n",
        "     '7': []}\n",
        "\n",
        "n = len(g)\n",
        "src = '1'\n",
        "dis = {}\n",
        "path = {}\n",
        "for k in g.keys():\n",
        "  dis[k] = -1\n",
        "  path[k] = ''\n",
        "\n",
        "dis[src] = 0\n",
        "path[src]= ''\n"
      ],
      "execution_count": null,
      "outputs": []
    },
    {
      "cell_type": "code",
      "metadata": {
        "id": "EcMS_9xMUXbR"
      },
      "source": [
        "i=1\n",
        "while i<=n-1:\n",
        "  label = False \n",
        "  \n",
        "  visit = {}\n",
        "  for k in g.keys():\n",
        "    visit[k] = False\n",
        "\n",
        "  q = [src]#[distance, node]\n",
        "  while len(q)>0:\n",
        "    x = q.pop(0)\n",
        "    \n",
        "    for v in g[x]:#v=[ weight,node ]\n",
        "      d =  dis[x]+v[0]\n",
        "\n",
        "      if visit[v[1]]==False:\n",
        "        visit[k] = True\n",
        "        q.append(v[1])\n",
        "\n",
        "      if dis[v[1]]==-1:\n",
        "        label = True\n",
        "        dis[v[1]]=d\n",
        "        path[v[1]] = x\n",
        "        \n",
        "      else:\n",
        "        if dis[v[1]]>d:\n",
        "          label = True\n",
        "          dis[v[1]]=d\n",
        "          path[v[1]] = x\n",
        "  i+= 1\n",
        "  if label==False:\n",
        "    break"
      ],
      "execution_count": null,
      "outputs": []
    },
    {
      "cell_type": "code",
      "metadata": {
        "id": "tpxu0y4sFJuh",
        "colab": {
          "base_uri": "https://localhost:8080/",
          "height": 34
        },
        "outputId": "fd51a145-a9fc-4f90-d2b8-6dddc062855a"
      },
      "source": [
        "print(dis)"
      ],
      "execution_count": null,
      "outputs": [
        {
          "output_type": "execute_result",
          "data": {
            "text/plain": [
              "{'1': 0, '2': 1, '3': 3, '4': 5, '5': 0, '6': 4, '7': 3}"
            ]
          },
          "metadata": {
            "tags": []
          },
          "execution_count": 11
        }
      ]
    },
    {
      "cell_type": "markdown",
      "metadata": {
        "id": "fx-yhAU0KXBa"
      },
      "source": [
        "## Prims algorithm"
      ]
    },
    {
      "cell_type": "code",
      "metadata": {
        "id": "tzNS9-U_MoBH"
      },
      "source": [
        "g = {'0':[[4,'1'],[8,'7']],\n",
        "     '1':[[4,'0'],[8,'2'],[11,'7']],\n",
        "     '2':[[2,'8'],[7,'3'],[8,'1'],[4,'5']],\n",
        "     '3':[[7,'2'],[9,'4'],[14,'5']],\n",
        "     '4':[[9,'3'],[10,'5']],\n",
        "     '5':[[2,'6'],[4,'2'],[10,'4'],[14,'3']],\n",
        "     '6':[[1,'7'], [2,'5'],[6,'8']],\n",
        "     '7':[[1,'6'],[7,'8'],[8,'0'],[11,'1']],\n",
        "     '8':[[2,'2'],[6,'6'],[7,'7']]\n",
        "     }\n",
        "\n",
        "dis = {}\n",
        "parent = {}\n",
        "visited_edges = set()\n",
        "for k in g.keys():\n",
        "  dis[k] = 99999\n",
        "  parent[k] = ''\n",
        "\n",
        "src = '7'\n",
        "\n",
        "dis[src] = 0\n"
      ],
      "execution_count": null,
      "outputs": []
    },
    {
      "cell_type": "code",
      "metadata": {
        "id": "qulz7gv0P1UP"
      },
      "source": [
        "from minheap import minheap\n",
        "\n",
        "pq = minheap()"
      ],
      "execution_count": null,
      "outputs": []
    },
    {
      "cell_type": "code",
      "metadata": {
        "id": "OzSLjPODRhWw"
      },
      "source": [
        "\n",
        "for k in g:\n",
        "  pq.push([dis[k],k])\n",
        "\n",
        "while pq.size()>0:\n",
        "  \n",
        "  x = pq.pop()#x=[weight, node]\n",
        "  \n",
        "  \n",
        "  for v in g[x[1]]:#v=[weight, node]\n",
        "    if (v[1],x[1]) in visited_edges or (x[1],v[1]) in visited_edges:\n",
        "      continue\n",
        "   \n",
        "    if dis[v[1]] > v[0]:\n",
        "      dis[v[1]] = v[0]\n",
        "      parent[v[1]] = x[1]\n",
        "      pq.update([v[0],v[1]])\n",
        "    visited_edges.add((v[1],x[1]))\n",
        "  "
      ],
      "execution_count": null,
      "outputs": []
    },
    {
      "cell_type": "code",
      "metadata": {
        "id": "ya6Vxvr3Yft5",
        "colab": {
          "base_uri": "https://localhost:8080/",
          "height": 34
        },
        "outputId": "7997bcbf-d66d-40de-a516-6d042cf42201"
      },
      "source": [
        "print(parent)#here key value pair represents an edge, source vertex has blank value"
      ],
      "execution_count": null,
      "outputs": [
        {
          "output_type": "stream",
          "text": [
            "{'0': '7', '1': '0', '2': '5', '3': '2', '4': '3', '5': '6', '6': '7', '7': '', '8': '2'}\n"
          ],
          "name": "stdout"
        }
      ]
    },
    {
      "cell_type": "code",
      "metadata": {
        "id": "rv-3SIWrYjct",
        "colab": {
          "base_uri": "https://localhost:8080/",
          "height": 51
        },
        "outputId": "eb19d44a-c07f-4e47-f9b1-b2fe658d06d4"
      },
      "source": [
        "print(dis)\n",
        "print(sum(dis.values()))#total cost of MST"
      ],
      "execution_count": null,
      "outputs": [
        {
          "output_type": "stream",
          "text": [
            "{'0': 8, '1': 4, '2': 4, '3': 7, '4': 9, '5': 2, '6': 1, '7': 0, '8': 2}\n",
            "37\n"
          ],
          "name": "stdout"
        }
      ]
    },
    {
      "cell_type": "markdown",
      "metadata": {
        "id": "XmPhSGkaSS0D"
      },
      "source": [
        "## Kruskal's algorithm"
      ]
    },
    {
      "cell_type": "code",
      "metadata": {
        "id": "H3VQ37qIg1SW",
        "outputId": "68070626-9dc8-4892-fb5f-7503c2df30dd",
        "colab": {
          "base_uri": "https://localhost:8080/"
        }
      },
      "source": [
        "edges = [[0, 1, 4],[0, 7, 8],[1, 2, 8],[1, 7, 11],[2, 3, 7],[2, 5, 4],[2, 7, 7],[2, 8, 2],[3, 4, 9],[3, 5, 14],[4, 5, 10],[5, 6, 2],[6, 7, 1],[6, 8, 6]]\n",
        "#[v1,v2,w]\n",
        "n = 9\n",
        "parent = [-1]*n\n",
        "rank = [0]*n\n",
        "\n",
        "edges.sort(key=lambda x:x[2])\n",
        "\n",
        "def find(parent, node):\n",
        "    \n",
        "    if parent[node] !=-1:\n",
        "        parent[node] = find(parent, parent[node])\n",
        "        return parent[node]\n",
        "\n",
        "    return node\n",
        "\n",
        "def union(i,j, parent, rank):\n",
        "    rooti = find(parent, i)\n",
        "    rootj = find(parent, j)\n",
        "\n",
        "    if rank[rooti]>rank[rootj]:\n",
        "        parent[rootj] = rooti\n",
        "\n",
        "    elif rank[rootj]>rank[rooti]:\n",
        "        parent[rooti] = rootj\n",
        "\n",
        "    else:\n",
        "        parent[rooti] = rootj\n",
        "        rank[rootj] += 1\n",
        "ec = 0\n",
        "cost = 0\n",
        "mst = []\n",
        "for e in edges:\n",
        "    if ec==n-1:\n",
        "        break\n",
        "\n",
        "    root1 = find(parent,e[0])\n",
        "    root2 = find(parent,e[1])\n",
        "\n",
        "    if root1!=root2:\n",
        "        \n",
        "        mst.append([e[0], e[1]])\n",
        "        union(e[0],e[1],parent,rank)\n",
        "        cost += e[2]\n",
        "        ec += 1\n",
        "\n",
        "print(cost)\n",
        "print(mst)\n",
        "    \n",
        "\n"
      ],
      "execution_count": 8,
      "outputs": [
        {
          "output_type": "stream",
          "text": [
            "37\n",
            "[[6, 7], [2, 8], [5, 6], [0, 1], [2, 5], [2, 3], [0, 7], [3, 4]]\n"
          ],
          "name": "stdout"
        }
      ]
    },
    {
      "cell_type": "code",
      "metadata": {
        "id": "FhxVSY08hPTt"
      },
      "source": [
        ""
      ],
      "execution_count": null,
      "outputs": []
    }
  ]
}