{
  "nbformat": 4,
  "nbformat_minor": 0,
  "metadata": {
    "colab": {
      "name": "graph algorithms.ipynb",
      "provenance": [],
      "authorship_tag": "ABX9TyM+ggnRh2AmQ1jzj3B4Zu6y",
      "include_colab_link": true
    },
    "kernelspec": {
      "name": "python3",
      "display_name": "Python 3"
    }
  },
  "cells": [
    {
      "cell_type": "markdown",
      "metadata": {
        "id": "view-in-github",
        "colab_type": "text"
      },
      "source": [
        "<a href=\"https://colab.research.google.com/github/approjecthub/problem-solving-with-python/blob/master/graphs/graph_algorithms.ipynb\" target=\"_parent\"><img src=\"https://colab.research.google.com/assets/colab-badge.svg\" alt=\"Open In Colab\"/></a>"
      ]
    },
    {
      "cell_type": "markdown",
      "metadata": {
        "id": "yw9AVJsK3EpM",
        "colab_type": "text"
      },
      "source": [
        "## Topological sorting"
      ]
    },
    {
      "cell_type": "code",
      "metadata": {
        "id": "u5BLfSBv253O",
        "colab_type": "code",
        "colab": {
          "base_uri": "https://localhost:8080/",
          "height": 34
        },
        "outputId": "110dca21-7396-4a7a-c284-2d7d4f91fb93"
      },
      "source": [
        "g = {7:[11,8],5:[11], 3:[8,10], 11:[2,9,10], 8:[9], 2:[],9:[],10:[]}\n",
        "\n",
        "#calculate indegree\n",
        "ig = {}\n",
        "for k in g:\n",
        "  ig[k] = 0\n",
        "\n",
        "for k in g:\n",
        "  for v in g[k]:\n",
        "    ig[v] += 1\n",
        "\n",
        "print(ig)"
      ],
      "execution_count": null,
      "outputs": [
        {
          "output_type": "stream",
          "text": [
            "{7: 0, 5: 0, 3: 0, 11: 2, 8: 2, 2: 1, 9: 2, 10: 2}\n"
          ],
          "name": "stdout"
        }
      ]
    },
    {
      "cell_type": "code",
      "metadata": {
        "id": "d84cgt0J3J3J",
        "colab_type": "code",
        "colab": {
          "base_uri": "https://localhost:8080/",
          "height": 34
        },
        "outputId": "997c5726-8b9e-441a-ae89-7752651916ee"
      },
      "source": [
        "#put vertices inside the queue whose indegree is zero\n",
        "q = []\n",
        "for v in ig:\n",
        "  if ig[v]==0:\n",
        "    q.append(v)\n",
        "\n",
        "print(q)"
      ],
      "execution_count": null,
      "outputs": [
        {
          "output_type": "stream",
          "text": [
            "[7, 5, 3]\n"
          ],
          "name": "stdout"
        }
      ]
    },
    {
      "cell_type": "code",
      "metadata": {
        "id": "kV4GpVbE5Clm",
        "colab_type": "code",
        "colab": {
          "base_uri": "https://localhost:8080/",
          "height": 34
        },
        "outputId": "5f8c96f2-9f06-4766-a688-2854e898170c"
      },
      "source": [
        "#apply bfs and decrement idegree value once parent is visited\n",
        "while len(q)!=0:\n",
        "  x = q.pop(0)\n",
        "  print(x, end=' ')\n",
        "  for v in g[x]:\n",
        "    ig[v] -= 1\n",
        "    if ig[v] == 0:\n",
        "      q.append(v)\n",
        "  "
      ],
      "execution_count": null,
      "outputs": [
        {
          "output_type": "stream",
          "text": [
            "7 5 3 11 8 2 10 9 "
          ],
          "name": "stdout"
        }
      ]
    },
    {
      "cell_type": "code",
      "metadata": {
        "id": "sxwKSR0j7qOh",
        "colab_type": "code",
        "colab": {
          "base_uri": "https://localhost:8080/",
          "height": 34
        },
        "outputId": "bc85908f-1b6f-4078-86b0-b00935a11b93"
      },
      "source": [
        "#checking the presence of a \n",
        "label = False\n",
        "for v in ig:\n",
        "  if ig[v] != 0:\n",
        "    label = True\n",
        "    break\n",
        "if label:\n",
        "  print('cycle is present')\n",
        "else:\n",
        "  print('no cycle')"
      ],
      "execution_count": null,
      "outputs": [
        {
          "output_type": "stream",
          "text": [
            "no cycle\n"
          ],
          "name": "stdout"
        }
      ]
    },
    {
      "cell_type": "markdown",
      "metadata": {
        "id": "0q7SDRGzBAR0",
        "colab_type": "text"
      },
      "source": [
        "## Shortest path in unweighted graph"
      ]
    },
    {
      "cell_type": "code",
      "metadata": {
        "id": "YFapG6D292ss",
        "colab_type": "code",
        "colab": {}
      },
      "source": [
        "#weight of every edge considered as equal\n",
        "g = {'a':['b','d'], 'b':['d','e'], 'c':['a','f'], 'e':['g'], 'f':[],'g':['f'], 'd':['f','g']}\n",
        "\n",
        "#similar to bfs, two data structures are needed: queue, distance table(distance from source, name of the vertesx through which we get the shortest path)\n",
        "\n",
        "dis = {}\n",
        "path = {}\n",
        "\n",
        "src = \"c\"##initialised the source node\n",
        "\n",
        "##prepare the distance table and initialising all vertices distance as -1 except for source vertex\n",
        "for v in g:\n",
        "  if v == src:\n",
        "    dis[src] = 0\n",
        "  else:\n",
        "    dis[v] = -1"
      ],
      "execution_count": null,
      "outputs": []
    },
    {
      "cell_type": "code",
      "metadata": {
        "id": "0_8Za9iMGMpq",
        "colab_type": "code",
        "colab": {
          "base_uri": "https://localhost:8080/",
          "height": 34
        },
        "outputId": "b7ed95ea-f88c-45e2-ff1f-8d4893a19e01"
      },
      "source": [
        "#bfs\n",
        "q = []\n",
        "q.append(src)\n",
        "while len(q)!=0:\n",
        "  x = q.pop(0)\n",
        "  \n",
        "  for v in g[x]:\n",
        "    if dis[v]==-1:#visiting each vertex only once as there is no chance to find a shorter path, as all edges have same weight\n",
        "      dis[v] = dis[x]+1\n",
        "      path[v] = x\n",
        "      q.append(v)\n",
        "\n",
        "print(dis,path)"
      ],
      "execution_count": null,
      "outputs": [
        {
          "output_type": "stream",
          "text": [
            "{'a': 1, 'b': 2, 'c': 0, 'e': 3, 'f': 1, 'g': 3, 'd': 2} {'a': 'c', 'f': 'c', 'b': 'a', 'd': 'a', 'e': 'b', 'g': 'd'}\n"
          ],
          "name": "stdout"
        }
      ]
    },
    {
      "cell_type": "markdown",
      "metadata": {
        "id": "wEscLNesLLkF",
        "colab_type": "text"
      },
      "source": [
        "## Dijkstra algorithm"
      ]
    },
    {
      "cell_type": "code",
      "metadata": {
        "id": "u_a-LXmfHmWJ",
        "colab_type": "code",
        "colab": {}
      },
      "source": [
        "#regular bfs can not gurantee shortest path, as the vertex at the front of the queue may not be the closest vertex from the source\n",
        "#this algo keeps the shortest distance of vertex 'v' from src\n",
        "\n",
        "from minheap import minheap\n",
        "pq = minheap()\n",
        "\n",
        "'''\n",
        "#directed graph\n",
        "g = {'a': [[4,'b'], [1,'c']],\n",
        "     'b': [[4,'e']],\n",
        "     'c': [[2,'b'], [4,'d']],\n",
        "     'd': [[4,'e']],\n",
        "     'e': []}\n",
        "'''\n",
        "\n",
        "#undirected graph\n",
        "g = {'0':[[4,'1'],[8,'7']],\n",
        "     '1':[[4,'0'],[8,'2'],[11,'7']],\n",
        "     '2':[[2,'8'],[7,'3'],[8,'1']],\n",
        "     '3':[[7,'2'],[9,'4'],[14,'5']],\n",
        "     '4':[[9,'3'],[10,'5']],\n",
        "     '5':[[2,'6'],[4,'2'],[10,'4'],[14,'3']],\n",
        "     '6':[[1,'7'], [2,'5'],[6,'8']],\n",
        "     '7':[[1,'6'],[7,'8'],[8,'0'],[11,'1']],\n",
        "     '8':[[2,'2'],[6,'6'],[7,'7']]\n",
        "     }\n",
        "\n",
        "\n",
        "dis = {}\n",
        "path = {}\n",
        "\n",
        "for v in g:\n",
        "  dis[v] = -1\n",
        "\n",
        "src = '0'\n",
        "\n",
        "dis[src] = 0\n",
        "path[src] = ''"
      ],
      "execution_count": null,
      "outputs": []
    },
    {
      "cell_type": "code",
      "metadata": {
        "id": "PpmMiqvQP1mq",
        "colab_type": "code",
        "colab": {}
      },
      "source": [
        "pq.push((dis[src], src))\n",
        "\n",
        "while pq.size()>0:\n",
        "\n",
        "  x = pq.pop() #x =(dist,'node')\n",
        "\n",
        "  for v in g[x[1]]: #v=[weight, node]\n",
        "    d = dis[x[1]] + v[0]\n",
        "    if dis[v[1]] == -1:#node is not present inside pq\n",
        "      dis[v[1]] = d \n",
        "      pq.push((dis[v[1]],v[1]))\n",
        "      path[v[1]] = x[1]\n",
        "    else:#node is present within pq, so we have to update the value instead of pushing\n",
        "      if dis[v[1]]>d:\n",
        "        dis[v[1]] = d \n",
        "        pq.update((dis[v[1]],v[1]))\n",
        "        path[v[1]] = x[1]\n"
      ],
      "execution_count": null,
      "outputs": []
    },
    {
      "cell_type": "code",
      "metadata": {
        "id": "gHi7RzXhUOka",
        "colab_type": "code",
        "colab": {
          "base_uri": "https://localhost:8080/",
          "height": 54
        },
        "outputId": "a90b5910-4d6a-4b30-de5d-e8177977a462"
      },
      "source": [
        "print(dis, path)"
      ],
      "execution_count": null,
      "outputs": [
        {
          "output_type": "stream",
          "text": [
            "{'0': 0, '1': 4, '2': 12, '3': 19, '4': 21, '5': 11, '6': 9, '7': 8, '8': 14} {'0': '', '1': '0', '7': '0', '2': '1', '6': '7', '8': '2', '5': '6', '4': '5', '3': '2'}\n"
          ],
          "name": "stdout"
        }
      ]
    },
    {
      "cell_type": "markdown",
      "metadata": {
        "id": "7np5n7UiUlt3",
        "colab_type": "text"
      },
      "source": [
        "## Bellman-Ford algorithm"
      ]
    },
    {
      "cell_type": "code",
      "metadata": {
        "id": "vF9Rs3oxUk5e",
        "colab_type": "code",
        "colab": {}
      },
      "source": [
        "g = {'1': [[6,'2'],[5,'3'],[5,'4']],\n",
        "     '2': [[-1,'5']],\n",
        "     '3': [[-2, '2'],[1,'5']],\n",
        "     '4': [[-2,'3'],[-1,'6']],\n",
        "     '5': [[3,'7']],\n",
        "     '6': [[3, '7']],\n",
        "     '7': []}\n",
        "\n",
        "n = len(g)\n",
        "src = '1'\n",
        "dis = {}\n",
        "path = {}\n",
        "for k in g.keys():\n",
        "  dis[k] = -1\n",
        "  path[k] = ''\n",
        "\n",
        "dis[src] = 0\n",
        "path[src]= ''\n"
      ],
      "execution_count": null,
      "outputs": []
    },
    {
      "cell_type": "code",
      "metadata": {
        "id": "EcMS_9xMUXbR",
        "colab_type": "code",
        "colab": {}
      },
      "source": [
        "i=1\n",
        "while i<=n-1:\n",
        "  label = False \n",
        "  \n",
        "  visit = {}\n",
        "  for k in g.keys():\n",
        "    visit[k] = False\n",
        "\n",
        "  q = [src]#[distance, node]\n",
        "  while len(q)>0:\n",
        "    x = q.pop(0)\n",
        "    \n",
        "    for v in g[x]:#v=[ weight,node ]\n",
        "      d =  dis[x]+v[0]\n",
        "\n",
        "      if visit[v[1]]==False:\n",
        "        visit[k] = True\n",
        "        q.append(v[1])\n",
        "\n",
        "      if dis[v[1]]==-1:\n",
        "        label = True\n",
        "        dis[v[1]]=d\n",
        "        path[v[1]] = x\n",
        "        \n",
        "      else:\n",
        "        if dis[v[1]]>d:\n",
        "          label = True\n",
        "          dis[v[1]]=d\n",
        "          path[v[1]] = x\n",
        "  i+= 1\n",
        "  if label==False:\n",
        "    break"
      ],
      "execution_count": null,
      "outputs": []
    },
    {
      "cell_type": "code",
      "metadata": {
        "id": "tpxu0y4sFJuh",
        "colab_type": "code",
        "colab": {
          "base_uri": "https://localhost:8080/",
          "height": 34
        },
        "outputId": "fd51a145-a9fc-4f90-d2b8-6dddc062855a"
      },
      "source": [
        "print(dis)"
      ],
      "execution_count": null,
      "outputs": [
        {
          "output_type": "execute_result",
          "data": {
            "text/plain": [
              "{'1': 0, '2': 1, '3': 3, '4': 5, '5': 0, '6': 4, '7': 3}"
            ]
          },
          "metadata": {
            "tags": []
          },
          "execution_count": 11
        }
      ]
    },
    {
      "cell_type": "markdown",
      "metadata": {
        "id": "fx-yhAU0KXBa",
        "colab_type": "text"
      },
      "source": [
        "## Prims algorithm"
      ]
    },
    {
      "cell_type": "code",
      "metadata": {
        "id": "tzNS9-U_MoBH",
        "colab_type": "code",
        "colab": {}
      },
      "source": [
        "g = {'0':[[4,'1'],[8,'7']],\n",
        "     '1':[[4,'0'],[8,'2'],[11,'7']],\n",
        "     '2':[[2,'8'],[7,'3'],[8,'1']],\n",
        "     '3':[[7,'2'],[9,'4'],[14,'5']],\n",
        "     '4':[[9,'3'],[10,'5']],\n",
        "     '5':[[2,'6'],[4,'2'],[10,'4'],[14,'3']],\n",
        "     '6':[[1,'7'], [2,'5'],[6,'8']],\n",
        "     '7':[[1,'6'],[7,'8'],[8,'0'],[11,'1']],\n",
        "     '8':[[2,'2'],[6,'6'],[7,'7']]\n",
        "     }\n",
        "\n",
        "dis = {}\n",
        "parent = {}\n",
        "visited_edges = set()\n",
        "for k in g.keys():\n",
        "  dis[k] = 99999\n",
        "  parent[k] = ''\n",
        "\n",
        "src = '0'\n",
        "\n",
        "dis[src] = 0\n"
      ],
      "execution_count": 6,
      "outputs": []
    },
    {
      "cell_type": "code",
      "metadata": {
        "id": "qulz7gv0P1UP",
        "colab_type": "code",
        "colab": {}
      },
      "source": [
        "from minheap import minheap\n",
        "\n",
        "pq = minheap()"
      ],
      "execution_count": 7,
      "outputs": []
    },
    {
      "cell_type": "code",
      "metadata": {
        "id": "OzSLjPODRhWw",
        "colab_type": "code",
        "colab": {
          "base_uri": "https://localhost:8080/",
          "height": 323
        },
        "outputId": "5a1a59b5-29b7-4ae1-ec39-608d3898604c"
      },
      "source": [
        "\n",
        "for k in g:\n",
        "  pq.push([dis[k],k])\n",
        "\n",
        "while pq.size()>0:\n",
        "  print(pq.heap)\n",
        "  x = pq.pop()#x=[weight, node]\n",
        "  \n",
        "  print(x[1])\n",
        "  for v in g[x[1]]:#v=[weight, node]\n",
        "    if (v[1],x[1]) in visited_edges or (x[1],v[1]) in visited_edges:\n",
        "      continue\n",
        "    if dis[v[1]] > v[0]:\n",
        "      dis[v[1]] = v[0]\n",
        "      parent[v[1]] = x[1]\n",
        "      pq.update([v[0],v[1]])\n",
        "    visited_edges.add((v[1],x[1]))\n",
        "  "
      ],
      "execution_count": 8,
      "outputs": [
        {
          "output_type": "stream",
          "text": [
            "[[0, '0'], [99999, '8'], [99999, '6'], [99999, '7'], [99999, '3'], [99999, '2'], [99999, '5'], [99999, '1'], [99999, '4']]\n",
            "0\n",
            "[[4, '1'], [8, '7'], [99999, '6'], [99999, '8'], [99999, '3'], [99999, '2'], [99999, '5'], [99999, '4']]\n",
            "1\n",
            "[[8, '2'], [99999, '8'], [8, '7'], [99999, '4'], [99999, '3'], [99999, '6'], [99999, '5']]\n",
            "2\n",
            "[[2, '8'], [7, '3'], [99999, '6'], [99999, '4'], [8, '7'], [99999, '5']]\n",
            "8\n",
            "[[6, '6'], [7, '7'], [7, '3'], [99999, '4'], [99999, '5']]\n",
            "6\n",
            "[[1, '7'], [2, '5'], [7, '3'], [99999, '4']]\n",
            "7\n",
            "[[2, '5'], [99999, '4'], [7, '3']]\n",
            "5\n",
            "[[7, '3'], [10, '4']]\n",
            "3\n",
            "[[9, '4']]\n",
            "4\n"
          ],
          "name": "stdout"
        }
      ]
    },
    {
      "cell_type": "code",
      "metadata": {
        "id": "ya6Vxvr3Yft5",
        "colab_type": "code",
        "colab": {
          "base_uri": "https://localhost:8080/",
          "height": 34
        },
        "outputId": "46de012f-6193-4cd7-a6b0-6ac00046ef5a"
      },
      "source": [
        "print(parent)#here key value pair represents an edge, source vertex has blank value"
      ],
      "execution_count": 9,
      "outputs": [
        {
          "output_type": "stream",
          "text": [
            "{'0': '', '1': '0', '2': '5', '3': '2', '4': '3', '5': '6', '6': '8', '7': '6', '8': '2'}\n"
          ],
          "name": "stdout"
        }
      ]
    },
    {
      "cell_type": "code",
      "metadata": {
        "id": "rv-3SIWrYjct",
        "colab_type": "code",
        "colab": {
          "base_uri": "https://localhost:8080/",
          "height": 51
        },
        "outputId": "4db7dfea-8e23-40cb-c292-7de176b3a2a1"
      },
      "source": [
        "print(dis)\n",
        "print(sum(dis.values()))#total cost of MST"
      ],
      "execution_count": 10,
      "outputs": [
        {
          "output_type": "stream",
          "text": [
            "{'0': 0, '1': 4, '2': 4, '3': 7, '4': 9, '5': 2, '6': 6, '7': 1, '8': 2}\n",
            "35\n"
          ],
          "name": "stdout"
        }
      ]
    },
    {
      "cell_type": "code",
      "metadata": {
        "id": "odHCdsG8ZDE2",
        "colab_type": "code",
        "colab": {}
      },
      "source": [
        ""
      ],
      "execution_count": null,
      "outputs": []
    }
  ]
}