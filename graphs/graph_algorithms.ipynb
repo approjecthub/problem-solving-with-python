{
  "nbformat": 4,
  "nbformat_minor": 0,
  "metadata": {
    "colab": {
      "name": "graph algorithms.ipynb",
      "provenance": [],
      "authorship_tag": "ABX9TyMPAM21yqXkzAApCt5bOXKX",
      "include_colab_link": true
    },
    "kernelspec": {
      "name": "python3",
      "display_name": "Python 3"
    }
  },
  "cells": [
    {
      "cell_type": "markdown",
      "metadata": {
        "id": "view-in-github",
        "colab_type": "text"
      },
      "source": [
        "<a href=\"https://colab.research.google.com/github/approjecthub/problem-solving-with-python/blob/master/graphs/graph_algorithms.ipynb\" target=\"_parent\"><img src=\"https://colab.research.google.com/assets/colab-badge.svg\" alt=\"Open In Colab\"/></a>"
      ]
    },
    {
      "cell_type": "markdown",
      "metadata": {
        "id": "yw9AVJsK3EpM",
        "colab_type": "text"
      },
      "source": [
        "## Topological sorting"
      ]
    },
    {
      "cell_type": "code",
      "metadata": {
        "id": "u5BLfSBv253O",
        "colab_type": "code",
        "colab": {
          "base_uri": "https://localhost:8080/",
          "height": 34
        },
        "outputId": "110dca21-7396-4a7a-c284-2d7d4f91fb93"
      },
      "source": [
        "g = {7:[11,8],5:[11], 3:[8,10], 11:[2,9,10], 8:[9], 2:[],9:[],10:[]}\n",
        "\n",
        "#calculate indegree\n",
        "ig = {}\n",
        "for k in g:\n",
        "  ig[k] = 0\n",
        "\n",
        "for k in g:\n",
        "  for v in g[k]:\n",
        "    ig[v] += 1\n",
        "\n",
        "print(ig)"
      ],
      "execution_count": 1,
      "outputs": [
        {
          "output_type": "stream",
          "text": [
            "{7: 0, 5: 0, 3: 0, 11: 2, 8: 2, 2: 1, 9: 2, 10: 2}\n"
          ],
          "name": "stdout"
        }
      ]
    },
    {
      "cell_type": "code",
      "metadata": {
        "id": "d84cgt0J3J3J",
        "colab_type": "code",
        "colab": {
          "base_uri": "https://localhost:8080/",
          "height": 34
        },
        "outputId": "997c5726-8b9e-441a-ae89-7752651916ee"
      },
      "source": [
        "#put vertices inside the queue whose indegree is zero\n",
        "q = []\n",
        "for v in ig:\n",
        "  if ig[v]==0:\n",
        "    q.append(v)\n",
        "\n",
        "print(q)"
      ],
      "execution_count": 2,
      "outputs": [
        {
          "output_type": "stream",
          "text": [
            "[7, 5, 3]\n"
          ],
          "name": "stdout"
        }
      ]
    },
    {
      "cell_type": "code",
      "metadata": {
        "id": "kV4GpVbE5Clm",
        "colab_type": "code",
        "colab": {
          "base_uri": "https://localhost:8080/",
          "height": 34
        },
        "outputId": "5f8c96f2-9f06-4766-a688-2854e898170c"
      },
      "source": [
        "#apply bfs and decrement idegree value once parent is visited\n",
        "while len(q)!=0:\n",
        "  x = q.pop(0)\n",
        "  print(x, end=' ')\n",
        "  for v in g[x]:\n",
        "    ig[v] -= 1\n",
        "    if ig[v] == 0:\n",
        "      q.append(v)\n",
        "  "
      ],
      "execution_count": 3,
      "outputs": [
        {
          "output_type": "stream",
          "text": [
            "7 5 3 11 8 2 10 9 "
          ],
          "name": "stdout"
        }
      ]
    },
    {
      "cell_type": "code",
      "metadata": {
        "id": "sxwKSR0j7qOh",
        "colab_type": "code",
        "colab": {
          "base_uri": "https://localhost:8080/",
          "height": 34
        },
        "outputId": "bc85908f-1b6f-4078-86b0-b00935a11b93"
      },
      "source": [
        "#checking the presence of a \n",
        "label = False\n",
        "for v in ig:\n",
        "  if ig[v] != 0:\n",
        "    label = True\n",
        "    break\n",
        "if label:\n",
        "  print('cycle is present')\n",
        "else:\n",
        "  print('no cycle')"
      ],
      "execution_count": null,
      "outputs": [
        {
          "output_type": "stream",
          "text": [
            "no cycle\n"
          ],
          "name": "stdout"
        }
      ]
    },
    {
      "cell_type": "markdown",
      "metadata": {
        "id": "0q7SDRGzBAR0",
        "colab_type": "text"
      },
      "source": [
        "## Shortest path in unweighted graph"
      ]
    },
    {
      "cell_type": "code",
      "metadata": {
        "id": "YFapG6D292ss",
        "colab_type": "code",
        "colab": {}
      },
      "source": [
        "#weight of every edge considered as equal\n",
        "g = {'a':['b','d'], 'b':['d','e'], 'c':['a','f'], 'e':['g'], 'f':[],'g':['f'], 'd':['f','g']}\n",
        "\n",
        "#similar to bfs, two data structures are needed: queue, distance table(distance from source, name of the vertesx through which we get the shortest path)\n",
        "\n",
        "dis = {}\n",
        "path = {}\n",
        "\n",
        "src = \"c\"##initialised the source node\n",
        "\n",
        "##prepare the distance table and initialising all vertices distance as -1 except for source vertex\n",
        "for v in g:\n",
        "  if v == src:\n",
        "    dis[src] = 0\n",
        "  else:\n",
        "    dis[v] = -1"
      ],
      "execution_count": null,
      "outputs": []
    },
    {
      "cell_type": "code",
      "metadata": {
        "id": "0_8Za9iMGMpq",
        "colab_type": "code",
        "colab": {
          "base_uri": "https://localhost:8080/",
          "height": 34
        },
        "outputId": "b7ed95ea-f88c-45e2-ff1f-8d4893a19e01"
      },
      "source": [
        "#bfs\n",
        "q = []\n",
        "q.append(src)\n",
        "while len(q)!=0:\n",
        "  x = q.pop(0)\n",
        "  \n",
        "  for v in g[x]:\n",
        "    if dis[v]==-1:#visiting each vertex only once as there is no chance to find a shorter path, as all edges have same weight\n",
        "      dis[v] = dis[x]+1\n",
        "      path[v] = x\n",
        "      q.append(v)\n",
        "\n",
        "print(dis,path)"
      ],
      "execution_count": null,
      "outputs": [
        {
          "output_type": "stream",
          "text": [
            "{'a': 1, 'b': 2, 'c': 0, 'e': 3, 'f': 1, 'g': 3, 'd': 2} {'a': 'c', 'f': 'c', 'b': 'a', 'd': 'a', 'e': 'b', 'g': 'd'}\n"
          ],
          "name": "stdout"
        }
      ]
    },
    {
      "cell_type": "markdown",
      "metadata": {
        "id": "wEscLNesLLkF",
        "colab_type": "text"
      },
      "source": [
        "## Dijkstra algorithm"
      ]
    },
    {
      "cell_type": "code",
      "metadata": {
        "id": "u_a-LXmfHmWJ",
        "colab_type": "code",
        "colab": {}
      },
      "source": [
        "#regular bfs can not gurantee shortest path, as the vertex at the front of the queue may not be the closest vertex from the source\n",
        "#this algo keeps the shortest distance of vertex 'v' from src\n",
        "\n",
        "from minheap import minheap\n",
        "pq = minheap()\n",
        "\n",
        "g = {'a': [['b',4], ['c',1]],\n",
        "     'b': [['e',4]],\n",
        "     'c': [['b', 2], ['d',4]],\n",
        "     'd': [['e',4]],\n",
        "     'e': []}\n",
        "\n",
        "dis = {}\n",
        "path = {}\n",
        "\n",
        "for v in g:\n",
        "  dis[v] = -1\n",
        "\n",
        "src = 'a'\n",
        "\n",
        "dis[src] = 0\n",
        "path[src] = ''"
      ],
      "execution_count": null,
      "outputs": []
    },
    {
      "cell_type": "code",
      "metadata": {
        "id": "PpmMiqvQP1mq",
        "colab_type": "code",
        "colab": {}
      },
      "source": [
        "pq.push((dis[src], src))\n",
        "\n",
        "while pq.size()>0:\n",
        "\n",
        "  x = pq.pop() #x =(dist,'node')\n",
        "\n",
        "  for v in g[x[1]]: #v=['node',weight[x][v]]\n",
        "    d = dis[x[1]] + v[1]\n",
        "    if dis[v[0]] == -1:#node is not present inside pq\n",
        "      dis[v[0]] = d \n",
        "      pq.push((dis[v[0]],v[0]))\n",
        "      path[v[0]] = x[1]\n",
        "    else:#node is present within pq, so we have to update the value instead of pushing\n",
        "      if dis[v[0]]>d:\n",
        "        dis[v[0]] = d \n",
        "        pq.update((dis[v[0]],v[0]))\n",
        "        path[v[0]] = x[1]\n"
      ],
      "execution_count": null,
      "outputs": []
    },
    {
      "cell_type": "code",
      "metadata": {
        "id": "gHi7RzXhUOka",
        "colab_type": "code",
        "colab": {
          "base_uri": "https://localhost:8080/",
          "height": 34
        },
        "outputId": "fda23ada-32f6-4052-8773-9793d28e5fe3"
      },
      "source": [
        "print(dis, path)"
      ],
      "execution_count": null,
      "outputs": [
        {
          "output_type": "stream",
          "text": [
            "{'a': 0, 'b': 3, 'c': 1, 'd': 5, 'e': 7} {'a': '', 'b': 'c', 'c': 'a', 'd': 'c', 'e': 'b'}\n"
          ],
          "name": "stdout"
        }
      ]
    },
    {
      "cell_type": "markdown",
      "metadata": {
        "id": "7np5n7UiUlt3",
        "colab_type": "text"
      },
      "source": [
        "## Bellman-Ford algorithm"
      ]
    },
    {
      "cell_type": "code",
      "metadata": {
        "id": "vF9Rs3oxUk5e",
        "colab_type": "code",
        "colab": {}
      },
      "source": [
        "g = {'1': [[6,'2'],[5,'3'],[5,'4']],\n",
        "     '2': [[-1,'5']],\n",
        "     '3': [[-2, '2'],[1,'5']],\n",
        "     '4': [[-2,'3'],[-1,'6']],\n",
        "     '5': [[3,'7']],\n",
        "     '6': [[3, '7']]}\n",
        "\n",
        "n = len(g)\n",
        "src = '1'\n",
        "dis = {}\n",
        "path = {}\n",
        "for k in g.keys():\n",
        "  dis[k] = -1\n",
        "  path[k] = ''\n",
        "\n",
        "dis[src] = 0\n",
        "path[src]= ''\n"
      ],
      "execution_count": null,
      "outputs": []
    },
    {
      "cell_type": "code",
      "metadata": {
        "id": "QPXUJCk7s9HO",
        "colab_type": "code",
        "colab": {}
      },
      "source": [
        ""
      ],
      "execution_count": null,
      "outputs": []
    },
    {
      "cell_type": "code",
      "metadata": {
        "id": "EcMS_9xMUXbR",
        "colab_type": "code",
        "colab": {}
      },
      "source": [
        "i=0\n",
        "while i<n-1:\n",
        "  label = False \n",
        "  visit = {}\n",
        "  for k in g.keys():\n",
        "    visit[k]\n",
        "  q = [[dis[src],src]]#[distance, node]\n",
        "  while len(q)>0:\n",
        "    x = q.pop(0)\n",
        "    for v in g[x[1]]:#v=[ weight,node ]\n",
        "      d =  dis[x[1]]+v[0]\n",
        "      if dis[v[1]]==-1:\n",
        "        label = True\n",
        "        dis[v[1]]=d\n",
        "        path[v[1]] = x[1]\n",
        "        q.append([d,v[1]])\n",
        "      else:\n",
        "        if dis[v[1]]>d:\n",
        "          label = True\n",
        "          dis[v[1]]=d\n",
        "          path[v[1]] = x[1]\n"
      ],
      "execution_count": null,
      "outputs": []
    }
  ]
}