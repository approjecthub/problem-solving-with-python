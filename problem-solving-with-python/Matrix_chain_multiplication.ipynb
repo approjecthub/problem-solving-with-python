{
  "nbformat": 4,
  "nbformat_minor": 0,
  "metadata": {
    "colab": {
      "name": "Matrix chain multiplication.ipynb",
      "provenance": [],
      "authorship_tag": "ABX9TyPCMn+J7zMzydyjB21weKNm",
      "include_colab_link": true
    },
    "kernelspec": {
      "name": "python3",
      "display_name": "Python 3"
    }
  },
  "cells": [
    {
      "cell_type": "markdown",
      "metadata": {
        "id": "view-in-github",
        "colab_type": "text"
      },
      "source": [
        "<a href=\"https://colab.research.google.com/github/approjecthub/problem-solving-with-python/blob/master/problem-solving-with-python/Matrix_chain_multiplication.ipynb\" target=\"_parent\"><img src=\"https://colab.research.google.com/assets/colab-badge.svg\" alt=\"Open In Colab\"/></a>"
      ]
    },
    {
      "cell_type": "code",
      "metadata": {
        "id": "JNcwEaVJx8HI",
        "colab_type": "code",
        "colab": {}
      },
      "source": [
        "arr = [40, 20, 30, 10, 30]"
      ],
      "execution_count": null,
      "outputs": []
    },
    {
      "cell_type": "code",
      "metadata": {
        "id": "NHtGPTHJymFL",
        "colab_type": "code",
        "colab": {
          "base_uri": "https://localhost:8080/",
          "height": 34
        },
        "outputId": "38212614-df88-4e4b-a1c8-7cb0e96c700d"
      },
      "source": [
        "##recursive\n",
        "def mcm(arr, i, j):\n",
        "  if i>=j:\n",
        "    return 0\n",
        "  else:\n",
        "    ans = float('inf')\n",
        "    for k in range(i,j):##k will iterate through i to j-1\n",
        "      temp = mcm(arr, i, k)+mcm(arr, k+1, j) + arr[i-1]*arr[k]*arr[j]\n",
        "\n",
        "      ans = min(temp, ans)\n",
        "\n",
        "    return ans\n",
        "\n",
        "mcm(arr, 1, len(arr)-1)"
      ],
      "execution_count": null,
      "outputs": [
        {
          "output_type": "execute_result",
          "data": {
            "text/plain": [
              "26000"
            ]
          },
          "metadata": {
            "tags": []
          },
          "execution_count": 7
        }
      ]
    },
    {
      "cell_type": "code",
      "metadata": {
        "id": "onm18-N4zXl8",
        "colab_type": "code",
        "colab": {}
      },
      "source": [
        ""
      ],
      "execution_count": null,
      "outputs": []
    }
  ]
}