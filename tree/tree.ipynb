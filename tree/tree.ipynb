{
  "nbformat": 4,
  "nbformat_minor": 0,
  "metadata": {
    "colab": {
      "name": "tree.ipynb",
      "provenance": [],
      "authorship_tag": "ABX9TyMSvw/9/Qn1Abq2aWz2aNbX",
      "include_colab_link": true
    },
    "kernelspec": {
      "name": "python3",
      "display_name": "Python 3"
    }
  },
  "cells": [
    {
      "cell_type": "markdown",
      "metadata": {
        "id": "view-in-github",
        "colab_type": "text"
      },
      "source": [
        "<a href=\"https://colab.research.google.com/github/approjecthub/problem-solving-with-python/blob/master/tree/tree.ipynb\" target=\"_parent\"><img src=\"https://colab.research.google.com/assets/colab-badge.svg\" alt=\"Open In Colab\"/></a>"
      ]
    },
    {
      "cell_type": "markdown",
      "metadata": {
        "id": "NziDBiJtFRQc",
        "colab_type": "text"
      },
      "source": [
        "https://practice.geeksforgeeks.org/problems/diameter-of-binary-tree/1"
      ]
    },
    {
      "cell_type": "code",
      "metadata": {
        "id": "ia52ZL0iFT6u",
        "colab_type": "code",
        "colab": {}
      },
      "source": [
        "class newNode:\n",
        "  def __init__(self, val):\n",
        "    self.right = None\n",
        "    self.data = val\n",
        "    self.left = None\n"
      ],
      "execution_count": 6,
      "outputs": []
    },
    {
      "cell_type": "code",
      "metadata": {
        "id": "NdTzUz-xGo5T",
        "colab_type": "code",
        "colab": {}
      },
      "source": [
        "root = newNode(9)  \n",
        "root.left = newNode(8)  \n",
        "root.left.left = newNode(5)  \n",
        "root.left.right = newNode(10)  \n",
        "root.left.left.right = newNode(5)\n",
        "root.left.left.right.left = newNode(6)\n",
        "root.left.right.left = newNode(6)  "
      ],
      "execution_count": 12,
      "outputs": []
    },
    {
      "cell_type": "code",
      "metadata": {
        "id": "A1hEzqmnEJrU",
        "colab_type": "code",
        "colab": {}
      },
      "source": [
        "def diameter(root): ##o(n^2)\n",
        "    # Code here\n",
        "    def height(root):\n",
        "        if not root:return 0\n",
        "        return 1+max(height(root.left), height(root.right))\n",
        "    def dia(root):\n",
        "        if not root:return 0\n",
        "        else:\n",
        "            val = 1\n",
        "            val += height(root.left)\n",
        "            val += height(root.right)\n",
        "            \n",
        "            return val\n",
        "    if not root: return 0\n",
        "    return max(diameter(root.left), dia(root), diameter(root.right))\n",
        "\n",
        "diameter(root)"
      ],
      "execution_count": 2,
      "outputs": []
    },
    {
      "cell_type": "code",
      "metadata": {
        "id": "lL-9iPrSG3HL",
        "colab_type": "code",
        "colab": {
          "base_uri": "https://localhost:8080/",
          "height": 34
        },
        "outputId": "941e7ddf-1581-4e59-95c2-cf81c612a731"
      },
      "source": [
        "ans = -1\n",
        "def height(root):#o(n)\n",
        "    global ans\n",
        "    if not root:return 0\n",
        "    lh = height(root.left)\n",
        "    rh = height(root.right)\n",
        "    ans = max(ans, 1+lh+rh)\n",
        "    return 1+max(lh, rh)\n",
        "\n",
        "def diameter(root):\n",
        "    # Code here\n",
        "    global ans\n",
        "    if not root: return 0\n",
        "    \n",
        "    height(root)\n",
        "    return ans\n",
        "\n",
        "diameter(root)"
      ],
      "execution_count": 14,
      "outputs": [
        {
          "output_type": "execute_result",
          "data": {
            "text/plain": [
              "6"
            ]
          },
          "metadata": {
            "tags": []
          },
          "execution_count": 14
        }
      ]
    },
    {
      "cell_type": "code",
      "metadata": {
        "id": "mXFszeQLX5Bx",
        "colab_type": "code",
        "colab": {}
      },
      "source": [
        ""
      ],
      "execution_count": 14,
      "outputs": []
    }
  ]
}