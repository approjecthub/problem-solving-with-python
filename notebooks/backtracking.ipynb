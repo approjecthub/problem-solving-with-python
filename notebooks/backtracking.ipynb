{
  "nbformat": 4,
  "nbformat_minor": 0,
  "metadata": {
    "kernelspec": {
      "display_name": "Python 3",
      "language": "python",
      "name": "python3"
    },
    "language_info": {
      "codemirror_mode": {
        "name": "ipython",
        "version": 3
      },
      "file_extension": ".py",
      "mimetype": "text/x-python",
      "name": "python",
      "nbconvert_exporter": "python",
      "pygments_lexer": "ipython3",
      "version": "3.6.5"
    },
    "colab": {
      "name": "backtracking.ipynb",
      "provenance": [],
      "include_colab_link": true
    }
  },
  "cells": [
    {
      "cell_type": "markdown",
      "metadata": {
        "id": "view-in-github",
        "colab_type": "text"
      },
      "source": [
        "<a href=\"https://colab.research.google.com/github/approjecthub/problem-solving-with-python/blob/master/notebooks/backtracking.ipynb\" target=\"_parent\"><img src=\"https://colab.research.google.com/assets/colab-badge.svg\" alt=\"Open In Colab\"/></a>"
      ]
    },
    {
      "cell_type": "markdown",
      "metadata": {
        "id": "p34SeCIZjsT6",
        "colab_type": "text"
      },
      "source": [
        "### Find Path in NXN Maze"
      ]
    },
    {
      "cell_type": "code",
      "metadata": {
        "id": "u3sfnxDKjsT_",
        "colab_type": "code",
        "colab": {}
      },
      "source": [
        "x=[[1,1,1,0,0],\n",
        "  [0,0,1,1,0],\n",
        "  [1,0,0,1,0],\n",
        "  [0,1,0,1,1],\n",
        "  [0,0,0,0,1]]\n",
        "\n",
        "n = len(x[0])#column size\n",
        "m = len(x)#row size"
      ],
      "execution_count": null,
      "outputs": []
    },
    {
      "cell_type": "code",
      "metadata": {
        "id": "6CFRpbMFjsUM",
        "colab_type": "code",
        "colab": {}
      },
      "source": [
        "sol = []\n",
        "for i in range(m):\n",
        "    sol.append([0]*n)\n",
        "    "
      ],
      "execution_count": null,
      "outputs": []
    },
    {
      "cell_type": "code",
      "metadata": {
        "id": "u0VaTulpjsUo",
        "colab_type": "code",
        "colab": {}
      },
      "source": [
        "def valid(i,j):\n",
        "    global x\n",
        "    global n\n",
        "    global m\n",
        "    if i<=m-1 and j<=n-1 and x[i][j]==1:\n",
        "        return True\n",
        "    else:\n",
        "        return False"
      ],
      "execution_count": null,
      "outputs": []
    },
    {
      "cell_type": "code",
      "metadata": {
        "id": "nbaXGWILjsUy",
        "colab_type": "code",
        "colab": {}
      },
      "source": [
        "def findpath(r,c):\n",
        "    global sol\n",
        "    global n\n",
        "    global m\n",
        "    global x\n",
        "    if r==m-1 and c==n-1:\n",
        "        print(sol)\n",
        "    else:\n",
        "        if x[r][c]==1:#to check the starting cell\n",
        "            sol[r][c]=1\n",
        "        else:\n",
        "            if valid(r+1,c):\n",
        "                sol[r+1][c]=1\n",
        "                findpath(r+1,c)\n",
        "                sol[r+1][c] = 0\n",
        "            if valid(r,c+1):\n",
        "                sol[r][c+1]=1\n",
        "                findpath(r,c+1)\n",
        "                sol[r][c+1] = 0"
      ],
      "execution_count": null,
      "outputs": []
    },
    {
      "cell_type": "code",
      "metadata": {
        "id": "GnP2ePwwjsU6",
        "colab_type": "code",
        "colab": {}
      },
      "source": [
        "findpath(0,0)"
      ],
      "execution_count": null,
      "outputs": []
    },
    {
      "cell_type": "markdown",
      "metadata": {
        "id": "xdB5W1DXjsVE",
        "colab_type": "text"
      },
      "source": [
        "### n queens problem"
      ]
    },
    {
      "cell_type": "code",
      "metadata": {
        "id": "KW-9QSNgjsVE",
        "colab_type": "code",
        "colab": {}
      },
      "source": [
        "def validity(i,j):\n",
        "    global x\n",
        "    for k in range(i):\n",
        "        if x[k] == j:\n",
        "            return False\n",
        "        if abs(x[k]-j)==abs(i-k):\n",
        "            return False\n",
        "    return True"
      ],
      "execution_count": null,
      "outputs": []
    },
    {
      "cell_type": "code",
      "metadata": {
        "id": "aRlNcl-tjsVM",
        "colab_type": "code",
        "colab": {}
      },
      "source": [
        "def arrangement(i):\n",
        "    global n\n",
        "    global x\n",
        "    if i==n:\n",
        "        print(x)\n",
        "    else:\n",
        "        for j in range(n):\n",
        "            if validity(i,j):\n",
        "                x[i] = j\n",
        "                arrangement(i+1)"
      ],
      "execution_count": null,
      "outputs": []
    },
    {
      "cell_type": "code",
      "metadata": {
        "id": "p1_-ZJPCjsVV",
        "colab_type": "code",
        "colab": {}
      },
      "source": [
        "n = 4\n",
        "arr = []\n",
        "x = [-1]*n#solutiion array\n",
        "for i in range(n):\n",
        "    arr.append([0]*n)"
      ],
      "execution_count": null,
      "outputs": []
    },
    {
      "cell_type": "code",
      "metadata": {
        "id": "FMZX-uXcjsVf",
        "colab_type": "code",
        "colab": {},
        "outputId": "a9429ef4-522d-4ca5-c435-8cb9600c1f12"
      },
      "source": [
        "arrangement(0)"
      ],
      "execution_count": null,
      "outputs": [
        {
          "output_type": "stream",
          "text": [
            "[1, 3, 0, 2]\n",
            "[2, 0, 3, 1]\n"
          ],
          "name": "stdout"
        }
      ]
    },
    {
      "cell_type": "markdown",
      "metadata": {
        "id": "bzoPCi_fjsVr",
        "colab_type": "text"
      },
      "source": [
        "### graph coloring problem"
      ]
    },
    {
      "cell_type": "code",
      "metadata": {
        "id": "idD6Ui40jsVt",
        "colab_type": "code",
        "colab": {}
      },
      "source": [
        "n = 5#no. of nodes\n",
        "\n",
        "m = 3#no. of colors\n",
        "G = [[0, 1, 1, 1,0],\n",
        "        [1,0,1,1,0],\n",
        "        [1,1,0,0,1],\n",
        "        [1,1,0,0,1],\n",
        "        [0,0,1,1,0]]\n",
        "    \n",
        "x = [0]*n"
      ],
      "execution_count": null,
      "outputs": []
    },
    {
      "cell_type": "code",
      "metadata": {
        "id": "hGV0ypdWjsV3",
        "colab_type": "code",
        "colab": {}
      },
      "source": [
        "def color_validity(i,c):\n",
        "    global x\n",
        "    global G\n",
        "    for j in range(i):\n",
        "        if G[i][j]==1:\n",
        "            if x[j] == c:\n",
        "                return False\n",
        "    return True"
      ],
      "execution_count": null,
      "outputs": []
    },
    {
      "cell_type": "code",
      "metadata": {
        "id": "kAlnRGvYjsV-",
        "colab_type": "code",
        "colab": {}
      },
      "source": [
        "def node_colors(i):\n",
        "    global n\n",
        "    global x\n",
        "    global m\n",
        "    if i==n:\n",
        "        print(x)\n",
        "    else:\n",
        "        for c in range(1,m+1):\n",
        "            if color_validity(i,c):\n",
        "                x[i] = c\n",
        "                node_colors(i+1)\n",
        "    \n",
        "        "
      ],
      "execution_count": null,
      "outputs": []
    },
    {
      "cell_type": "code",
      "metadata": {
        "id": "5JVQ0E2jjsWI",
        "colab_type": "code",
        "colab": {},
        "outputId": "2fb0c9d9-7ba0-456e-ae62-d86dcc8bb17a"
      },
      "source": [
        "node_colors(0)"
      ],
      "execution_count": null,
      "outputs": [
        {
          "output_type": "stream",
          "text": [
            "[1, 2, 3, 3, 1]\n",
            "[1, 2, 3, 3, 2]\n",
            "[1, 3, 2, 2, 1]\n",
            "[1, 3, 2, 2, 3]\n",
            "[2, 1, 3, 3, 1]\n",
            "[2, 1, 3, 3, 2]\n",
            "[2, 3, 1, 1, 2]\n",
            "[2, 3, 1, 1, 3]\n",
            "[3, 1, 2, 2, 1]\n",
            "[3, 1, 2, 2, 3]\n",
            "[3, 2, 1, 1, 2]\n",
            "[3, 2, 1, 1, 3]\n"
          ],
          "name": "stdout"
        }
      ]
    },
    {
      "cell_type": "markdown",
      "metadata": {
        "id": "ewyyIjmajsWO",
        "colab_type": "text"
      },
      "source": [
        "### coin change2 "
      ]
    },
    {
      "cell_type": "code",
      "metadata": {
        "id": "dlgNW-OrjsWP",
        "colab_type": "code",
        "colab": {}
      },
      "source": [
        "def comb(sp,total, amount, coins,size,count):\n",
        "            \n",
        "    if total==amount:\n",
        "        count += 1\n",
        "        return count\n",
        "    elif total<amount:\n",
        "        for i in range(sp,size):\n",
        "            count = comb(i,total+coins[i], amount, coins,size, count)\n",
        "        return count\n",
        "    else:\n",
        "        return count\n",
        "\n",
        "amount=5\n",
        "coins=[1,2,5]\n",
        "count = comb(0,0,amount, coins,len(coins),0)"
      ],
      "execution_count": null,
      "outputs": []
    },
    {
      "cell_type": "code",
      "metadata": {
        "id": "ioD0Np2JjsWX",
        "colab_type": "code",
        "colab": {},
        "outputId": "7ba79752-64cb-4c8e-a960-e8f28f7022af"
      },
      "source": [
        "print(count)"
      ],
      "execution_count": null,
      "outputs": [
        {
          "output_type": "stream",
          "text": [
            "4\n"
          ],
          "name": "stdout"
        }
      ]
    },
    {
      "cell_type": "markdown",
      "metadata": {
        "id": "4ptMN5-WjsWf",
        "colab_type": "text"
      },
      "source": [
        "https://leetcode.com/problems/count-and-say/"
      ]
    },
    {
      "cell_type": "code",
      "metadata": {
        "id": "0NY0xcf1jsWi",
        "colab_type": "code",
        "colab": {}
      },
      "source": [
        "ans = {}\n",
        "ans[1]='1'\n",
        "n=6"
      ],
      "execution_count": null,
      "outputs": []
    },
    {
      "cell_type": "code",
      "metadata": {
        "id": "jfuCkHk1jsWs",
        "colab_type": "code",
        "colab": {}
      },
      "source": [
        "for i in range(2,n+1):\n",
        "    ans[i] = ''\n",
        "    string = ans[i-1]\n",
        "    \n",
        "    k=0\n",
        "    while k<len(string):\n",
        "        count=1\n",
        "        val = string[k]\n",
        "        j=k\n",
        "        while j<len(string)-1 and string[j]==string[j+1]:\n",
        "            count+=1\n",
        "            j+=1\n",
        "        if j>k:\n",
        "            k=j+1\n",
        "        else:\n",
        "            k += 1\n",
        "        ans[i] +=str(count)\n",
        "        ans[i] += val\n"
      ],
      "execution_count": null,
      "outputs": []
    },
    {
      "cell_type": "code",
      "metadata": {
        "id": "0vnkPEm-jsW3",
        "colab_type": "code",
        "colab": {},
        "outputId": "39d92f59-23f3-470e-c119-2bee8ca0ef34"
      },
      "source": [
        "ans"
      ],
      "execution_count": null,
      "outputs": [
        {
          "output_type": "execute_result",
          "data": {
            "text/plain": [
              "{1: '1', 2: '11', 3: '21', 4: '1211', 5: '111221', 6: '312211'}"
            ]
          },
          "metadata": {
            "tags": []
          },
          "execution_count": 41
        }
      ]
    },
    {
      "cell_type": "markdown",
      "metadata": {
        "id": "EQVc5bIUjsW_",
        "colab_type": "text"
      },
      "source": [
        "https://leetcode.com/explore/challenge/card/june-leetcoding-challenge/540/week-2-june-8th-june-14th/3360/"
      ]
    },
    {
      "cell_type": "code",
      "metadata": {
        "id": "G1TZcORrjsXA",
        "colab_type": "code",
        "colab": {}
      },
      "source": [
        "n = 3\n",
        "edges = [[0,1,100],[1,2,100],[0,2,500]]\n",
        "src = 0\n",
        "dst = 2\n",
        "k = 0"
      ],
      "execution_count": null,
      "outputs": []
    },
    {
      "cell_type": "code",
      "metadata": {
        "id": "7y-CO2xQjsXH",
        "colab_type": "code",
        "colab": {},
        "outputId": "b2c65654-0d71-4198-80cb-d42ff3d9e11e"
      },
      "source": [
        "g = {}\n",
        "for i in range(n):\n",
        "    g[i] = []\n",
        "\n",
        "ans=0\n",
        "for e in edges:\n",
        "    if e[2]>ans:\n",
        "        ans=e[2]\n",
        "    g[e[0]].append([e[1],e[2]])\n",
        "\n",
        "label = False\n",
        "print(ans)\n",
        "print(g)"
      ],
      "execution_count": null,
      "outputs": [
        {
          "output_type": "stream",
          "text": [
            "500\n",
            "{0: [[1, 100], [2, 500]], 1: [[2, 100]], 2: []}\n"
          ],
          "name": "stdout"
        }
      ]
    },
    {
      "cell_type": "code",
      "metadata": {
        "id": "_yH91GUXjsXO",
        "colab_type": "code",
        "colab": {}
      },
      "source": [
        "def dfs(node, cost,stop):\n",
        "    global dst\n",
        "    global label\n",
        "    global ans\n",
        "    global k\n",
        "    if node==dst:\n",
        "        \n",
        "        if cost<=ans and stop<=k+1:\n",
        "            \n",
        "            label = True\n",
        "            ans = cost\n",
        "    else:\n",
        "        try:\n",
        "            for n in g[node]:\n",
        "                if len(n)>=1:\n",
        "                    dfs(n[0],n[1]+cost,stop+1)\n",
        "        except Exception as e:\n",
        "            print(e)\n",
        "            print(node,n)\n",
        "\n",
        "dfs(0,0,0)"
      ],
      "execution_count": null,
      "outputs": []
    },
    {
      "cell_type": "code",
      "metadata": {
        "id": "Y-Pme1wFjsXT",
        "colab_type": "code",
        "colab": {},
        "outputId": "cf3ec946-9d9c-416e-f3a4-35b485a62f71"
      },
      "source": [
        "if label:\n",
        "    print(ans)\n",
        "else:\n",
        "    print(-1)"
      ],
      "execution_count": null,
      "outputs": [
        {
          "output_type": "stream",
          "text": [
            "500\n"
          ],
          "name": "stdout"
        }
      ]
    },
    {
      "cell_type": "markdown",
      "metadata": {
        "id": "J4aWYCR4jsXd",
        "colab_type": "text"
      },
      "source": [
        "### Hamiltoninan cycle"
      ]
    },
    {
      "cell_type": "markdown",
      "metadata": {
        "id": "9zP8hdtEjsXf",
        "colab_type": "text"
      },
      "source": [
        "https://www.geeksforgeeks.org/hamiltonian-cycle-backtracking-6/"
      ]
    },
    {
      "cell_type": "code",
      "metadata": {
        "id": "aXEK3pl1jsXg",
        "colab_type": "code",
        "colab": {}
      },
      "source": [
        "g = [[0, 1, 0, 1, 0],  \n",
        "    [1, 0, 1, 1, 1],  \n",
        "     [0, 1, 0, 0, 1],  \n",
        "     [1, 1, 0, 0, 0],  \n",
        "     [0, 1, 1, 0, 0]]\n",
        "\n",
        "\n",
        "\n",
        "n=5\n",
        "ans=[-1]*(n+1)\n",
        "visit=[-1]*n"
      ],
      "execution_count": null,
      "outputs": []
    },
    {
      "cell_type": "code",
      "metadata": {
        "id": "j7dXGsOKjsXu",
        "colab_type": "code",
        "colab": {}
      },
      "source": [
        "def rec(src,node,c):\n",
        "    try:\n",
        "        global n\n",
        "        global g\n",
        "        global ans\n",
        "        global visit\n",
        "        \n",
        "        if c==n and ans[n]==ans[0]:\n",
        "            print(ans)\n",
        "        if c>=n:\n",
        "            return\n",
        "        else:\n",
        "            if node!=src:\n",
        "                visit[node]=1\n",
        "            ans[c]=node\n",
        "            for i in range(n):\n",
        "                if g[node][i]==1 and visit[i]!=1:\n",
        "                    if c+1<n and i==src:\n",
        "                        continue\n",
        "                    ans[c+1]=i\n",
        "                    rec(src,i,c+1)\n",
        "                    ans[c+1]=-1\n",
        "            visit[node]=-1\n",
        "    except Exception as e:\n",
        "        print(node,n,e)"
      ],
      "execution_count": null,
      "outputs": []
    },
    {
      "cell_type": "code",
      "metadata": {
        "id": "XFqshBeYjsX5",
        "colab_type": "code",
        "colab": {}
      },
      "source": [
        "src=0\n",
        "rec(src,0,0)"
      ],
      "execution_count": null,
      "outputs": []
    },
    {
      "cell_type": "markdown",
      "metadata": {
        "id": "KdY0mqa8jsYB",
        "colab_type": "text"
      },
      "source": [
        "https://www.geeksforgeeks.org/print-combinations-factors-ways-factorize/"
      ]
    },
    {
      "cell_type": "code",
      "metadata": {
        "id": "W5CHsAOmjsYB",
        "colab_type": "code",
        "colab": {}
      },
      "source": [
        "ans = []##permutation\n",
        "def factors(n):\n",
        "    if(n==1):\n",
        "        print(ans) \n",
        "    for i in range(2,n+1):\n",
        "        if (n%i==0):\n",
        "            ans.append(i)\n",
        "            factors(n//i)\n",
        "            ans.remove(i)\n",
        "            "
      ],
      "execution_count": null,
      "outputs": []
    },
    {
      "cell_type": "code",
      "metadata": {
        "id": "jilLkqnbjsYG",
        "colab_type": "code",
        "colab": {},
        "outputId": "8300b00d-2da2-47e3-d23e-74400023eccf"
      },
      "source": [
        "factors(16)"
      ],
      "execution_count": null,
      "outputs": [
        {
          "output_type": "stream",
          "text": [
            "[2, 2, 2, 2]\n",
            "[2, 2, 4]\n",
            "[2, 4, 2]\n",
            "[2, 8]\n",
            "[4, 2, 2]\n",
            "[4, 4]\n",
            "[8, 2]\n",
            "[16]\n"
          ],
          "name": "stdout"
        }
      ]
    },
    {
      "cell_type": "code",
      "metadata": {
        "id": "pf14RnlajsYS",
        "colab_type": "code",
        "colab": {}
      },
      "source": [
        "\n",
        "def print_fact(f,sp,n,stk):\n",
        "    global res\n",
        "    if f>n or sp>n:\n",
        "        return \n",
        "    if sp==n:\n",
        "        res.append(stk.copy())\n",
        "    else:\n",
        "        for i in range(f,n):\n",
        "            if i*sp>n:\n",
        "                break\n",
        "            if n%i==0:\n",
        "                stk.append(i)\n",
        "                print_fact(i, i*sp, n, stk)\n",
        "                stk.remove(i)"
      ],
      "execution_count": null,
      "outputs": []
    },
    {
      "cell_type": "code",
      "metadata": {
        "id": "lQ5jcqzPjsYY",
        "colab_type": "code",
        "colab": {},
        "outputId": "9074833a-48ec-4eef-ce4a-1d1c723ea0d7"
      },
      "source": [
        "res = []\n",
        "n=12\n",
        "print_fact(2,1,n, [])\n",
        "print(res)"
      ],
      "execution_count": null,
      "outputs": [
        {
          "output_type": "stream",
          "text": [
            "[[2, 2, 3], [2, 6], [3, 4]]\n"
          ],
          "name": "stdout"
        }
      ]
    },
    {
      "cell_type": "markdown",
      "metadata": {
        "id": "ZKtB96gbjsYi",
        "colab_type": "text"
      },
      "source": [
        "https://www.geeksforgeeks.org/the-knights-tour-problem-backtracking-1/"
      ]
    },
    {
      "cell_type": "code",
      "metadata": {
        "id": "zacnLE0OjsYk",
        "colab_type": "code",
        "colab": {}
      },
      "source": [
        "n=5\n",
        "arr=[]\n",
        "sol=[]\n",
        "for i in range(n):\n",
        "    arr.append([False]*n)\n",
        "    sol.append([-1]*n)"
      ],
      "execution_count": null,
      "outputs": []
    },
    {
      "cell_type": "code",
      "metadata": {
        "id": "2jZeqJDmjsYt",
        "colab_type": "code",
        "colab": {}
      },
      "source": [
        "def valid(i,j):\n",
        "    global n\n",
        "    return (i>=0 and i<=n-1 and j>=0 and j<n )"
      ],
      "execution_count": null,
      "outputs": []
    },
    {
      "cell_type": "code",
      "metadata": {
        "id": "czZNO8WhjsYz",
        "colab_type": "code",
        "colab": {}
      },
      "source": [
        "def dfs(i,j,c):\n",
        "    global sol\n",
        "    global arr\n",
        "    global n\n",
        "    temp = sol[i][j]\n",
        "    arr[i][j]=True\n",
        "    print(c)\n",
        "    sol[i][j]=c\n",
        "    \n",
        "    if c==(n*n)-1:\n",
        "        print(sol)\n",
        "    else:\n",
        "        #top\n",
        "        \n",
        "        if valid(i-2,j-1) and not arr[i-2][j-1]:\n",
        "            arr[i-2][j-1]=True\n",
        "            dfs(i-2,j-1,c+1)\n",
        "            \n",
        "            \n",
        "        if  valid(i-2,j+1) and not arr[i-2][j+1]:\n",
        "            arr[i-2][j+1]=True\n",
        "            dfs(i-2,j+1,c+1)\n",
        "            \n",
        "            \n",
        "        #down\n",
        "        if valid(i+2,j+1) and not arr[i+2][j+1]:\n",
        "            arr[i+2][j+1]=True\n",
        "            dfs(i+2,j+1,c+1)\n",
        "            arr[i+2][j+1]=False\n",
        "            \n",
        "        if  valid(i+2,j-1) and not arr[i+2][j-1]:\n",
        "            arr[i+2][j-1]=True\n",
        "            dfs(i+2,j-1,c+1)\n",
        "            arr[i+2][j-1]=False\n",
        "            \n",
        "        #left side\n",
        "        if valid(i-1,j-2) and not arr[i-1][j-2]:\n",
        "            arr[i-1][j-2]=True\n",
        "            dfs(i-1,j-2,c+1)\n",
        "            arr[i-1][j-2]=False\n",
        "            \n",
        "        if valid(i+1,j-2) and not arr[i+1][j-2]:\n",
        "            arr[i+1][j-2]=True\n",
        "            dfs(i+1,j-2,c+1)\n",
        "            arr[i+1][j-2]=False\n",
        "            \n",
        "        #right\n",
        "        if valid(i-1,j+2) and not arr[i-1][j+2]:\n",
        "            arr[i-1][j+2]=True\n",
        "            dfs(i-1,j+2,c+1)\n",
        "            arr[i-1][j+2]=False\n",
        "            \n",
        "        if valid(i+1,j+2) and not arr[i+1][j+2]:\n",
        "            arr[i+1][j+2]=True\n",
        "            dfs(i+1,j+2,c+1)\n",
        "            arr[i+1][j+2]=False\n",
        "            \n",
        "        arr[i-2][j-1]=False\n",
        "    sol[i][j] = temp\n",
        "    "
      ],
      "execution_count": null,
      "outputs": []
    },
    {
      "cell_type": "code",
      "metadata": {
        "id": "EuXL5gWrjsZK",
        "colab_type": "code",
        "colab": {}
      },
      "source": [
        "dfs(0,0,0)"
      ],
      "execution_count": null,
      "outputs": []
    },
    {
      "cell_type": "code",
      "metadata": {
        "id": "1RxC-3cJjsZS",
        "colab_type": "code",
        "colab": {},
        "outputId": "fdef85a3-7385-4ecb-bfa5-f2258fb7dd4f"
      },
      "source": [
        "sol"
      ],
      "execution_count": null,
      "outputs": [
        {
          "output_type": "execute_result",
          "data": {
            "text/plain": [
              "[[0, 23, 2, 25, 4, 27, 6, 29],\n",
              " [-1, 14, -1, 12, -1, 30, -1, -1],\n",
              " [22, 1, 24, 3, 26, 5, 28, 7],\n",
              " [15, 46, 13, -1, 11, -1, 31, -1],\n",
              " [-1, 21, -1, -1, 40, 35, 8, -1],\n",
              " [45, 16, 39, 18, 37, 10, 41, 32],\n",
              " [-1, -1, 20, 43, 34, -1, 36, 9],\n",
              " [-1, 44, 17, 38, 19, 42, 33, -1]]"
            ]
          },
          "metadata": {
            "tags": []
          },
          "execution_count": 10
        }
      ]
    },
    {
      "cell_type": "markdown",
      "metadata": {
        "id": "LD8v3ZmDjsZX",
        "colab_type": "text"
      },
      "source": [
        "https://leetcode.com/explore/challenge/card/june-leetcoding-challenge/543/week-5-june-29th-june-30th/3375/"
      ]
    },
    {
      "cell_type": "code",
      "metadata": {
        "id": "jqtf_XQ-jsZY",
        "colab_type": "code",
        "colab": {},
        "outputId": "609f6bdc-2025-4ee5-95de-15eb26162320"
      },
      "source": [
        "class Solution:\n",
        "    def valid(self,i,j):\n",
        "        return i<=self.m-1 and j<=self.n-1 \n",
        "    def dfs(self,i,j):\n",
        "        if i==self.m-1 and j==self.n-1:\n",
        "            self.count += 1\n",
        "        else:\n",
        "            if self.valid(i+1,j):\n",
        "                self.dfs(i+1,j)\n",
        "            if self.valid(i,j+1):               \n",
        "                self.dfs(i,j+1)\n",
        "    def uniquePaths(self, m: int, n: int) -> int:\n",
        "        self.m = m\n",
        "        self.n = n\n",
        "        self.count=0\n",
        "        self.dfs(0,0)\n",
        "        \n",
        "        return self.count\n",
        "    \n",
        "obj = Solution()\n",
        "obj.uniquePaths(7,3)"
      ],
      "execution_count": null,
      "outputs": [
        {
          "output_type": "execute_result",
          "data": {
            "text/plain": [
              "28"
            ]
          },
          "metadata": {
            "tags": []
          },
          "execution_count": 1
        }
      ]
    },
    {
      "cell_type": "code",
      "metadata": {
        "id": "XEikNy8tjsZg",
        "colab_type": "code",
        "colab": {}
      },
      "source": [
        ""
      ],
      "execution_count": null,
      "outputs": []
    }
  ]
}