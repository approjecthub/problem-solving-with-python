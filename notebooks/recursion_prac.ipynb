{
  "nbformat": 4,
  "nbformat_minor": 0,
  "metadata": {
    "colab": {
      "name": "recursion_prac.ipynb",
      "provenance": [],
      "collapsed_sections": [],
      "authorship_tag": "ABX9TyPO8sxY/mDXvfqgtDbQ3Vxy",
      "include_colab_link": true
    },
    "kernelspec": {
      "name": "python3",
      "display_name": "Python 3"
    }
  },
  "cells": [
    {
      "cell_type": "markdown",
      "metadata": {
        "id": "view-in-github",
        "colab_type": "text"
      },
      "source": [
        "<a href=\"https://colab.research.google.com/github/approjecthub/problem-solving-with-python/blob/master/notebooks/recursion_prac.ipynb\" target=\"_parent\"><img src=\"https://colab.research.google.com/assets/colab-badge.svg\" alt=\"Open In Colab\"/></a>"
      ]
    },
    {
      "cell_type": "markdown",
      "metadata": {
        "id": "Vhii2jFfBW4d",
        "colab_type": "text"
      },
      "source": [
        "https://www.geeksforgeeks.org/sum-array-elements-using-recursion/"
      ]
    },
    {
      "cell_type": "code",
      "metadata": {
        "id": "lAd8QNQpBQtj",
        "colab_type": "code",
        "colab": {
          "base_uri": "https://localhost:8080/",
          "height": 34
        },
        "outputId": "6bf2debe-3e4e-4210-8948-d42e4c696c65"
      },
      "source": [
        "def rec(a,i):\n",
        "  if i==0:\n",
        "    return a[i]\n",
        "  else:\n",
        "    return a[i]+rec(a,i-1)\n",
        "\n",
        "a = [1,2,2]\n",
        "print(rec(a,len(a)-1))"
      ],
      "execution_count": null,
      "outputs": [
        {
          "output_type": "stream",
          "text": [
            "5\n"
          ],
          "name": "stdout"
        }
      ]
    },
    {
      "cell_type": "markdown",
      "metadata": {
        "id": "dSbZy-exvwM-",
        "colab_type": "text"
      },
      "source": [
        "https://j2eedev.org/reversing-an-array-using-recursion-in-java/"
      ]
    },
    {
      "cell_type": "code",
      "metadata": {
        "id": "CUPw5LytB81N",
        "colab_type": "code",
        "colab": {
          "base_uri": "https://localhost:8080/",
          "height": 34
        },
        "outputId": "27e7f87c-78f5-418d-c1e2-464067f0f7d7"
      },
      "source": [
        "a = [1,2,3,4,5]\n",
        "n = len(a)\n",
        "def rec(a,i):\n",
        "  \n",
        "  global n\n",
        "  if i>=n//2:\n",
        "    return\n",
        "  rec(a,i+1)\n",
        "  #print(n-i-1,i)\n",
        "  a[n-i-1],a[i] = a[i],a[n-i-1]\n",
        "  \n",
        "rec(a,0)\n",
        "print(a)"
      ],
      "execution_count": null,
      "outputs": [
        {
          "output_type": "stream",
          "text": [
            "[5, 4, 3, 2, 1]\n"
          ],
          "name": "stdout"
        }
      ]
    },
    {
      "cell_type": "markdown",
      "metadata": {
        "id": "3fH4tUorLRRk",
        "colab_type": "text"
      },
      "source": [
        "https://www.geeksforgeeks.org/program-check-array-sorted-not-iterative-recursive/"
      ]
    },
    {
      "cell_type": "code",
      "metadata": {
        "id": "oqs4lu8xxjtz",
        "colab_type": "code",
        "colab": {
          "base_uri": "https://localhost:8080/",
          "height": 221
        },
        "outputId": "9a8dd6fc-349c-45f1-f10b-74ca8c91e13c"
      },
      "source": [
        "a = [20,21,45,89,8,90]\n",
        "\n",
        "def isSorted1(a,i,j):###divide conquer-wrong approach\n",
        "  n = j-i\n",
        "  #print(i,j)\n",
        "  if n==0:\n",
        "    return True\n",
        "  if n==1:\n",
        "    #print('ok')\n",
        "    if a[i]<= a[j]:\n",
        "      #print('ok')\n",
        "      return True\n",
        "    else:\n",
        "      return False\n",
        "\n",
        "  return isSorted1(a,i,max(i,j//2)) and isSorted1(a,max(i,j//2)+1,j)\n",
        "\n",
        "isSorted1(a,0,len(a)-1)"
      ],
      "execution_count": null,
      "outputs": [
        {
          "output_type": "stream",
          "text": [
            "0 5\n",
            "0 2\n",
            "0 1\n",
            "ok\n",
            "ok\n",
            "2 2\n",
            "3 5\n",
            "3 3\n",
            "4 5\n",
            "ok\n",
            "ok\n"
          ],
          "name": "stdout"
        },
        {
          "output_type": "execute_result",
          "data": {
            "text/plain": [
              "True"
            ]
          },
          "metadata": {
            "tags": []
          },
          "execution_count": 12
        }
      ]
    },
    {
      "cell_type": "code",
      "metadata": {
        "id": "tdztHavrN7jg",
        "colab_type": "code",
        "colab": {
          "base_uri": "https://localhost:8080/",
          "height": 34
        },
        "outputId": "5a8d243f-ad95-443f-b0df-229e58cdb3d5"
      },
      "source": [
        "a = [20,21,45,89,88,90]\n",
        "\n",
        "def isSorted1(a,i,j):###divide conquer\n",
        "  n = j-i\n",
        "  #print(i,j)\n",
        "  if n==0:\n",
        "    return True\n",
        "  if n==1:\n",
        "    #print('ok')\n",
        "    return a[i]<= a[j]\n",
        "  mid = (i+j)//2    \n",
        "  return a[mid]<=a[mid+1] and isSorted1(a,i,mid) and isSorted1(a,mid+1,j) \n",
        "\n",
        "isSorted1(a,0,len(a)-1)"
      ],
      "execution_count": null,
      "outputs": [
        {
          "output_type": "execute_result",
          "data": {
            "text/plain": [
              "False"
            ]
          },
          "metadata": {
            "tags": []
          },
          "execution_count": 26
        }
      ]
    },
    {
      "cell_type": "code",
      "metadata": {
        "id": "bf0UjGg_C9mA",
        "colab_type": "code",
        "colab": {
          "base_uri": "https://localhost:8080/",
          "height": 34
        },
        "outputId": "b171206b-a65d-4832-daec-5148111de70d"
      },
      "source": [
        "a = [20,21,45,89,89,90]\n",
        "\n",
        "def isSorted2(a,i):###wrong approach\n",
        "  if i==len(a)-1:\n",
        "    return True\n",
        "  else:\n",
        "    if a[i-1]<=a[i]:\n",
        "      return isSorted2(a,i+1)\n",
        "    else:\n",
        "      return False\n",
        "\n",
        "isSorted2(a,1)"
      ],
      "execution_count": null,
      "outputs": [
        {
          "output_type": "execute_result",
          "data": {
            "text/plain": [
              "True"
            ]
          },
          "metadata": {
            "tags": []
          },
          "execution_count": 17
        }
      ]
    },
    {
      "cell_type": "markdown",
      "metadata": {
        "id": "ut_ZAi5w0lMT",
        "colab_type": "text"
      },
      "source": [
        "https://www.geeksforgeeks.org/minimum-number-of-jumps-to-reach-end-of-a-given-array/"
      ]
    },
    {
      "cell_type": "code",
      "metadata": {
        "id": "698j_6OHHT1u",
        "colab_type": "code",
        "colab": {
          "base_uri": "https://localhost:8080/",
          "height": 34
        },
        "outputId": "05debf16-5f9a-45f6-8d2f-d4d38e707057"
      },
      "source": [
        "def steps(a,i):\n",
        "  if i>=len(a):\n",
        "    return 1\n",
        "  else:\n",
        "    if (i+a[i])<len(a):\n",
        "      maxm = max(a[i:i+a[i]+1])\n",
        "      return 1+steps(a,i+maxm)\n",
        "    else:\n",
        "      return 1+steps(a,i+a[i])\n",
        "\n",
        "a = [1, 3, 6, 3, 2, 3, 6, 8, 9, 5]\n",
        "print(steps(a,0))\n"
      ],
      "execution_count": null,
      "outputs": [
        {
          "output_type": "stream",
          "text": [
            "4\n"
          ],
          "name": "stdout"
        }
      ]
    },
    {
      "cell_type": "markdown",
      "metadata": {
        "id": "bPAu0G2HQ-A9",
        "colab_type": "text"
      },
      "source": [
        "https://www.geeksforgeeks.org/write-a-c-program-to-print-all-permutations-of-a-given-string/"
      ]
    },
    {
      "cell_type": "code",
      "metadata": {
        "id": "wBQkd5TMGmAv",
        "colab_type": "code",
        "colab": {
          "base_uri": "https://localhost:8080/",
          "height": 34
        },
        "outputId": "085366ac-43e7-4931-a11a-e1685d47ad20"
      },
      "source": [
        "ans = set()\n",
        "def str_perm(a,l,r):\n",
        "  global ans\n",
        "  if l==r:\n",
        "    ans.add(''.join(a))\n",
        "  else:\n",
        "    for i in range(l,r+1):\n",
        "      #if(i!=l and )\n",
        "      a[l],a[i] = a[i],a[l]\n",
        "      str_perm(a,l+1,r)\n",
        "      a[l],a[i] = a[i],a[l]\n",
        "\n",
        "a = 'aab'\n",
        "str_perm(list(a),0,len(a)-1)\n",
        "print(ans)"
      ],
      "execution_count": null,
      "outputs": [
        {
          "output_type": "stream",
          "text": [
            "{'aab', 'baa', 'aba'}\n"
          ],
          "name": "stdout"
        }
      ]
    },
    {
      "cell_type": "code",
      "metadata": {
        "id": "Ws9rSQMaTQr8",
        "colab_type": "code",
        "colab": {
          "base_uri": "https://localhost:8080/",
          "height": 68
        },
        "outputId": "447d6fee-2307-415e-8778-343a8fdc2796"
      },
      "source": [
        "for _ in range(len(ans)):\n",
        "  print(ans.pop())"
      ],
      "execution_count": null,
      "outputs": [
        {
          "output_type": "stream",
          "text": [
            "aab\n",
            "baa\n",
            "aba\n"
          ],
          "name": "stdout"
        }
      ]
    },
    {
      "cell_type": "markdown",
      "metadata": {
        "id": "dFweGNaJVK5j",
        "colab_type": "text"
      },
      "source": [
        "print trinary numbers"
      ]
    },
    {
      "cell_type": "code",
      "metadata": {
        "id": "U3UGyWGaVO7K",
        "colab_type": "code",
        "colab": {
          "base_uri": "https://localhost:8080/",
          "height": 170
        },
        "outputId": "cfbb4e29-ef4b-46ae-b11a-91107277d186"
      },
      "source": [
        "def tri(a,l):\n",
        "  if l==len(a):\n",
        "    print(a)\n",
        "    return\n",
        "  for i in range(3):\n",
        "    a[l] = i\n",
        "    tri(a,l+1)\n",
        "\n",
        "a = [0,0]\n",
        "tri(a,0)\n"
      ],
      "execution_count": null,
      "outputs": [
        {
          "output_type": "stream",
          "text": [
            "[0, 0]\n",
            "[0, 1]\n",
            "[0, 2]\n",
            "[1, 0]\n",
            "[1, 1]\n",
            "[1, 2]\n",
            "[2, 0]\n",
            "[2, 1]\n",
            "[2, 2]\n"
          ],
          "name": "stdout"
        }
      ]
    },
    {
      "cell_type": "markdown",
      "metadata": {
        "id": "J2A_7rW8GpmQ",
        "colab_type": "text"
      },
      "source": [
        "https://www.geeksforgeeks.org/print-subsequences-string/"
      ]
    },
    {
      "cell_type": "code",
      "metadata": {
        "id": "VciMEwxU3w0a",
        "colab_type": "code",
        "colab": {
          "base_uri": "https://localhost:8080/",
          "height": 34
        },
        "outputId": "0f8d02b7-015d-41c8-9714-f1c4ff25cce4"
      },
      "source": [
        "#ans =list()\n",
        "ans = set()\n",
        "def str_seq(a,l):\n",
        "  global ans\n",
        "  if(l==len(a)):\n",
        "    #ans.append(''.join(a))\n",
        "    ans.add(''.join(a))\n",
        "  else:\n",
        "    x= a[l]\n",
        "    a[l] = ''\n",
        "    str_seq(a, l+1)\n",
        "    a[l] = x\n",
        "    str_seq(a, l+1)\n",
        "\n",
        "a = 'aaa'\n",
        "str_seq(list(a),0)\n",
        "print(ans)"
      ],
      "execution_count": null,
      "outputs": [
        {
          "output_type": "stream",
          "text": [
            "{'', 'aa', 'aaa', 'a'}\n"
          ],
          "name": "stdout"
        }
      ]
    },
    {
      "cell_type": "code",
      "metadata": {
        "id": "e6MW62Dvtg2s",
        "colab_type": "code",
        "colab": {}
      },
      "source": [
        ""
      ],
      "execution_count": null,
      "outputs": []
    }
  ]
}