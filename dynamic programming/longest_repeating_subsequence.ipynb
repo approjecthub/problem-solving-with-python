{
  "nbformat": 4,
  "nbformat_minor": 0,
  "metadata": {
    "colab": {
      "name": "longest repeating subsequence.ipynb",
      "provenance": [],
      "authorship_tag": "ABX9TyOL+sbFbv7N7Wzqrav+3WwN",
      "include_colab_link": true
    },
    "kernelspec": {
      "name": "python3",
      "display_name": "Python 3"
    }
  },
  "cells": [
    {
      "cell_type": "markdown",
      "metadata": {
        "id": "view-in-github",
        "colab_type": "text"
      },
      "source": [
        "<a href=\"https://colab.research.google.com/github/approjecthub/problem-solving-with-python/blob/master/dynamic%20programming/longest_repeating_subsequence.ipynb\" target=\"_parent\"><img src=\"https://colab.research.google.com/assets/colab-badge.svg\" alt=\"Open In Colab\"/></a>"
      ]
    },
    {
      "cell_type": "code",
      "metadata": {
        "id": "0eJYjlIKDuHx",
        "colab_type": "code",
        "colab": {
          "base_uri": "https://localhost:8080/",
          "height": 34
        },
        "outputId": "d2e65e60-8b69-47a4-94f1-79bf16f4786a"
      },
      "source": [
        "\n",
        "n = 584\n",
        "s = 'wlrbbmqbhcdarzowkkyhiddqscdxrjmowfrxsjybldbefsarcbynecdyggxxpklorellnmpapqfwkhopkmcoqhnwnkuewhsqmgbbuqcljjivswmdkqtbxixmvtrrbljptnsnfwzqfjmafadrrwsofsbcnuvqhffbsaqxwpqcacehchzvfrkmlnozjkpqpxrjxkitzyxacbhhkicqcoendtomfgdwdwfcgpxiqvkuytdlcgdewhtaciohordtqkvwcsgspqoqmsboaguwnnyqxnzlgdgwpbtrwblnsadeuguumoqcdrubetokyxhoachwdvmxxrdryxlmndqtukwagmlejuukwcibxubumenmeyatdrmydiajxloghiqfmzhlvihjouvsuyoypayulyeimuotehzriicfskpggkbbipzzrzucxamludfykgruowzgiooobppleqlwphapjnadqhdcnvwdtxjbmyppphauxnspusgdhiixqmbfjxjcvudjsuyibyebmwsiqyoygyxymzevypzvjegebeocfuftsxdixtigsieehkchzdflilrjqfnxztqr'\n",
        "\n",
        "dp = []\n",
        "for i in range(n+1):\n",
        "    dp.append([-1]*(n+1))\n",
        "    \n",
        "for i in range(n+1):\n",
        "    for j in range(n+1):\n",
        "        if i==0 or j==0:\n",
        "            dp[i][j] = 0\n",
        "            \n",
        "for i in range(1,n+1):\n",
        "    for j in range(1,n+1):\n",
        "        if s[i-1]==s[j-1] and i!=j:\n",
        "            dp[i][j] = 1+dp[i-1][j-1]   \n",
        "            \n",
        "        else:\n",
        "            dp[i][j] = max(dp[i-1][j], dp[i][j-1])\n",
        "                \n",
        "print(dp[n][n])\n",
        "            "
      ],
      "execution_count": 2,
      "outputs": [
        {
          "output_type": "stream",
          "text": [
            "179\n"
          ],
          "name": "stdout"
        }
      ]
    },
    {
      "cell_type": "code",
      "metadata": {
        "id": "GQheyUmuEEBV",
        "colab_type": "code",
        "colab": {}
      },
      "source": [
        ""
      ],
      "execution_count": null,
      "outputs": []
    }
  ]
}