{
  "nbformat": 4,
  "nbformat_minor": 0,
  "metadata": {
    "colab": {
      "name": "Count the number of subset with a given difference.ipynb",
      "provenance": [],
      "authorship_tag": "ABX9TyMNjPwFSNSRHPgBIk7H/p/w",
      "include_colab_link": true
    },
    "kernelspec": {
      "name": "python3",
      "display_name": "Python 3"
    }
  },
  "cells": [
    {
      "cell_type": "markdown",
      "metadata": {
        "id": "view-in-github",
        "colab_type": "text"
      },
      "source": [
        "<a href=\"https://colab.research.google.com/github/approjecthub/problem-solving-with-python/blob/master/dynamic%20programming/Count_the_number_of_subset_with_a_given_difference.ipynb\" target=\"_parent\"><img src=\"https://colab.research.google.com/assets/colab-badge.svg\" alt=\"Open In Colab\"/></a>"
      ]
    },
    {
      "cell_type": "code",
      "metadata": {
        "id": "A38CK3ytCqMW",
        "colab_type": "code",
        "colab": {}
      },
      "source": [
        "#i/p : \n",
        "arr = [1, 1,2,3]\n",
        "req_diff = 1\n",
        "#o/p : 3, "
      ],
      "execution_count": null,
      "outputs": []
    },
    {
      "cell_type": "markdown",
      "metadata": {
        "id": "XpNJw-LQDYfY",
        "colab_type": "text"
      },
      "source": [
        "##Memorization"
      ]
    },
    {
      "cell_type": "code",
      "metadata": {
        "id": "8FH4IYX-DU_E",
        "colab_type": "code",
        "colab": {
          "base_uri": "https://localhost:8080/",
          "height": 34
        },
        "outputId": "dc6c0b06-ac6a-4883-b9a2-8c0288378ab0"
      },
      "source": [
        "##approach 1\n",
        "def mss(arr, ss1, n, total,req_diff,  dp):\n",
        "  if n==0:\n",
        "    ss2 = total - ss1\n",
        "    if abs(ss2-ss1)==req_diff:\n",
        "      return 1\n",
        "    else:\n",
        "      return 0\n",
        "\n",
        "  else:\n",
        "    if dp[n][ss1] == -1:\n",
        "      if ss1 + arr[n-1]<= (total//2):\n",
        "        dp[n][ss1] =  (mss(arr, ss1 + arr[n-1], n-1, total,req_diff, dp) + mss(arr, ss1, n-1, total,req_diff, dp))\n",
        "      else:\n",
        "        dp[n][ss1] =   mss(arr, ss1, n-1, total,req_diff, dp)\n",
        "    return dp[n][ss1]\n",
        "\n",
        "n = len(arr)\n",
        "total = sum(arr)\n",
        "\n",
        "dp = []\n",
        "\n",
        "for _ in range(n+1):\n",
        "  dp.append([-1]*(total +1))\n",
        "\n",
        "mss(arr, 0, n, total,req_diff, dp)"
      ],
      "execution_count": null,
      "outputs": [
        {
          "output_type": "execute_result",
          "data": {
            "text/plain": [
              "3"
            ]
          },
          "metadata": {
            "tags": []
          },
          "execution_count": 26
        }
      ]
    },
    {
      "cell_type": "code",
      "metadata": {
        "id": "wgwQ3lpMPh_2",
        "colab_type": "code",
        "colab": {
          "base_uri": "https://localhost:8080/",
          "height": 34
        },
        "outputId": "971520a6-edfe-4d36-b0f4-8dd5ebea29b8"
      },
      "source": [
        "##approach2\n",
        "def ss(arr, req_sum, n, dp):\n",
        "  for i in range(req_sum+1):\n",
        "    for j in range(n+1):\n",
        "      if i==0:\n",
        "        dp[i][j] = 1\n",
        "      elif j==0:\n",
        "        dp[i][j] = 0\n",
        "  \n",
        "  for i in range(1,req_sum+1):\n",
        "    for j in range(1,n+1):\n",
        "      if arr[j-1] <= i:\n",
        "        dp[i][j] = dp[i - arr[j-1]][j-1] + dp[i][j-1]\n",
        "      else:\n",
        "        dp[i][j] = dp[i][j-1]\n",
        "\n",
        "  return dp[req_sum][n]\n",
        "\n",
        "n = len(arr)\n",
        "total = sum(arr)\n",
        "req_sum = (req_diff+total)//2\n",
        "\n",
        "dp = []\n",
        "for _ in range(req_sum+1):\n",
        "  dp.append([-1]*(n+1))\n",
        "\n",
        "ss(arr, req_sum, n, dp)"
      ],
      "execution_count": null,
      "outputs": [
        {
          "output_type": "execute_result",
          "data": {
            "text/plain": [
              "3"
            ]
          },
          "metadata": {
            "tags": []
          },
          "execution_count": 27
        }
      ]
    },
    {
      "cell_type": "markdown",
      "metadata": {
        "id": "O9W5UI7YPUAe",
        "colab_type": "text"
      },
      "source": [
        "##Recursive"
      ]
    },
    {
      "cell_type": "code",
      "metadata": {
        "id": "6ZJ3gCYqDqyC",
        "colab_type": "code",
        "colab": {
          "base_uri": "https://localhost:8080/",
          "height": 34
        },
        "outputId": "f18e9ae1-a5e2-438d-bd87-b4adfc45ca8c"
      },
      "source": [
        "def mss(arr, ss1, n, total,req_diff):\n",
        "  if n==0:\n",
        "    \n",
        "    ss2 = total - ss1\n",
        "    if abs(ss2-ss1)==req_diff:\n",
        "      return 1\n",
        "    else:\n",
        "      return 0\n",
        "\n",
        "  else:\n",
        "    if ss1 + arr[n-1]<= (total//2):\n",
        "    \n",
        "      return (mss(arr, ss1 + arr[n-1], n-1, total,req_diff) + mss(arr, ss1, n-1, total,req_diff))\n",
        "\n",
        "    else:\n",
        "      return mss(arr, ss1, n-1, total,req_diff)\n",
        " \n",
        "\n",
        "n = len(arr)\n",
        "total = sum(arr)\n",
        "\n",
        "mss(arr, 0, n, total,req_diff)"
      ],
      "execution_count": null,
      "outputs": [
        {
          "output_type": "execute_result",
          "data": {
            "text/plain": [
              "3"
            ]
          },
          "metadata": {
            "tags": []
          },
          "execution_count": 25
        }
      ]
    },
    {
      "cell_type": "code",
      "metadata": {
        "id": "YeUyohJKIgxn",
        "colab_type": "code",
        "colab": {}
      },
      "source": [
        ""
      ],
      "execution_count": null,
      "outputs": []
    }
  ]
}