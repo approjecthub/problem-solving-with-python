{
  "nbformat": 4,
  "nbformat_minor": 0,
  "metadata": {
    "colab": {
      "name": "coin change 2.ipynb",
      "provenance": [],
      "authorship_tag": "ABX9TyP5ddzDflFF3GqXHpU7wzZ4",
      "include_colab_link": true
    },
    "kernelspec": {
      "name": "python3",
      "display_name": "Python 3"
    }
  },
  "cells": [
    {
      "cell_type": "markdown",
      "metadata": {
        "id": "view-in-github",
        "colab_type": "text"
      },
      "source": [
        "<a href=\"https://colab.research.google.com/github/approjecthub/problem-solving-with-python/blob/master/dynamic%20programming/coin_change_2.ipynb\" target=\"_parent\"><img src=\"https://colab.research.google.com/assets/colab-badge.svg\" alt=\"Open In Colab\"/></a>"
      ]
    },
    {
      "cell_type": "markdown",
      "metadata": {
        "id": "rOpA3bIRJ7Vx"
      },
      "source": [
        "https://www.geeksforgeeks.org/find-minimum-number-of-coins-that-make-a-change/\r\n",
        "\r\n",
        "https://youtu.be/I-l6PBeERuc?list=PL_z_8CaSLPWekqhdCPmFohncHwz8TY2Go"
      ]
    },
    {
      "cell_type": "code",
      "metadata": {
        "id": "l60BNPSiLBXP"
      },
      "source": [
        "# n = size of array,\r\n",
        "# coin array, arr[]\r\n",
        "# subset element count, c\r\n",
        "# given sum = x\r\n",
        "# find minm no. of coins to make the given sum"
      ],
      "execution_count": null,
      "outputs": []
    },
    {
      "cell_type": "code",
      "metadata": {
        "colab": {
          "base_uri": "https://localhost:8080/"
        },
        "id": "11XHIiyBIRF3",
        "outputId": "19718af4-3f97-4ecb-fd65-e2d61e6aa157"
      },
      "source": [
        "##completely naive approach by me\r\n",
        "\r\n",
        "def func(n, x, c, arr):\r\n",
        "  if x==0:\r\n",
        "    return c \r\n",
        "\r\n",
        "  if n==0:\r\n",
        "    return float('inf')\r\n",
        "\r\n",
        "  else:\r\n",
        "    if x>=arr[n-1]:\r\n",
        "      return min(func(n, x-arr[n-1], c+1, arr) , func(n-1, x, c, arr))\r\n",
        "    else:\r\n",
        "      return func(n-1, x, c, arr)\r\n",
        "\r\n",
        "\r\n",
        "arr = [1,2]\r\n",
        "n = len(arr)\r\n",
        "x = 30\r\n",
        "c = 0\r\n",
        "\r\n",
        "print(func(n, x, c, arr))"
      ],
      "execution_count": 4,
      "outputs": [
        {
          "output_type": "stream",
          "text": [
            "15\n"
          ],
          "name": "stdout"
        }
      ]
    },
    {
      "cell_type": "code",
      "metadata": {
        "id": "Sn0nZbeWOBbp"
      },
      "source": [
        ""
      ],
      "execution_count": null,
      "outputs": []
    }
  ]
}