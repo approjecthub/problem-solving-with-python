{
  "nbformat": 4,
  "nbformat_minor": 0,
  "metadata": {
    "colab": {
      "name": "Equal sum partition.ipynb",
      "provenance": [],
      "authorship_tag": "ABX9TyOtnyw9m6KyJRbaWp2B/xsO",
      "include_colab_link": true
    },
    "kernelspec": {
      "name": "python3",
      "display_name": "Python 3"
    }
  },
  "cells": [
    {
      "cell_type": "markdown",
      "metadata": {
        "id": "view-in-github",
        "colab_type": "text"
      },
      "source": [
        "<a href=\"https://colab.research.google.com/github/approjecthub/problem-solving-with-python/blob/master/dynamic%20programming/Equal_sum_partition.ipynb\" target=\"_parent\"><img src=\"https://colab.research.google.com/assets/colab-badge.svg\" alt=\"Open In Colab\"/></a>"
      ]
    },
    {
      "cell_type": "code",
      "metadata": {
        "id": "j6n85ktdLsPm",
        "colab_type": "code",
        "colab": {}
      },
      "source": [
        "arr = [1,5,11,5]\n",
        "##o/p : yes(if it can be divided into 2 subsets) or no"
      ],
      "execution_count": 7,
      "outputs": []
    },
    {
      "cell_type": "markdown",
      "metadata": {
        "id": "mCNCTUT8NUnj",
        "colab_type": "text"
      },
      "source": [
        "##Top down"
      ]
    },
    {
      "cell_type": "code",
      "metadata": {
        "id": "qA-OvzQoMM-c",
        "colab_type": "code",
        "colab": {
          "base_uri": "https://localhost:8080/",
          "height": 34
        },
        "outputId": "fdccda92-ef80-454f-a3ff-09d84e5a971b"
      },
      "source": [
        "def ss(arr, req_sum, n, dp):\n",
        "  for i in range(req_sum+1):\n",
        "    for j in range(n+1):\n",
        "      if i==0:\n",
        "        dp[i][j] = True\n",
        "      elif j==0:\n",
        "        dp[i][j] = False\n",
        "  \n",
        "  for i in range(1,req_sum+1):\n",
        "    for j in range(1,n+1):\n",
        "      if arr[j-1] <= i:\n",
        "        dp[i][j] = dp[i - arr[j-1]][j-1] or dp[i][j-1]\n",
        "      else:\n",
        "        dp[i][j] = dp[i][j-1]\n",
        "\n",
        "  return dp[req_sum][n]\n",
        "\n",
        "def esp(arr):\n",
        "  if sum(arr)%2!=0:\n",
        "    return False\n",
        "\n",
        "  n = len(arr)\n",
        "  req_sum = sum(arr)//2\n",
        "\n",
        "  dp = []\n",
        "  for _ in range(req_sum + 1):\n",
        "    dp.append([-1]*(n+1)) ##dp[req_sum+1][n+1]\n",
        "  return ss(arr, req_sum, n, dp)\n",
        "  \n",
        "esp(arr)"
      ],
      "execution_count": 8,
      "outputs": [
        {
          "output_type": "execute_result",
          "data": {
            "text/plain": [
              "True"
            ]
          },
          "metadata": {
            "tags": []
          },
          "execution_count": 8
        }
      ]
    },
    {
      "cell_type": "code",
      "metadata": {
        "id": "n7yLUD1JNXfF",
        "colab_type": "code",
        "colab": {}
      },
      "source": [
        ""
      ],
      "execution_count": null,
      "outputs": []
    }
  ]
}