{
  "nbformat": 4,
  "nbformat_minor": 0,
  "metadata": {
    "colab": {
      "name": "0-1 knapsack.ipynb",
      "provenance": [],
      "authorship_tag": "ABX9TyOK1IQIZ9S/1rTh9yLsfUuB",
      "include_colab_link": true
    },
    "kernelspec": {
      "name": "python3",
      "display_name": "Python 3"
    }
  },
  "cells": [
    {
      "cell_type": "markdown",
      "metadata": {
        "id": "view-in-github",
        "colab_type": "text"
      },
      "source": [
        "<a href=\"https://colab.research.google.com/github/approjecthub/problem-solving-with-python/blob/master/dynamic%20programming/0_1_knapsack.ipynb\" target=\"_parent\"><img src=\"https://colab.research.google.com/assets/colab-badge.svg\" alt=\"Open In Colab\"/></a>"
      ]
    },
    {
      "cell_type": "markdown",
      "metadata": {
        "id": "XN4fjFoLJkkG",
        "colab_type": "text"
      },
      "source": [
        "https://www.youtube.com/playlist?list=PL_z_8CaSLPWekqhdCPmFohncHwz8TY2Go"
      ]
    },
    {
      "cell_type": "code",
      "metadata": {
        "id": "4FseJ8aSHPSF",
        "colab_type": "code",
        "colab": {}
      },
      "source": [
        "#input\n",
        "wt = [10, 20, 30]#weights of items\n",
        "val = [60, 100, 120]#profits of the items\n",
        "\n",
        "w = 50#capacity of the knapsack\n",
        "\n",
        "##output : maximum profit with given capacity"
      ],
      "execution_count": 5,
      "outputs": []
    },
    {
      "cell_type": "markdown",
      "metadata": {
        "id": "1zeJAl8BJtFc",
        "colab_type": "text"
      },
      "source": [
        "## Recursive version"
      ]
    },
    {
      "cell_type": "code",
      "metadata": {
        "id": "fjl6mLANJqQu",
        "colab_type": "code",
        "colab": {
          "base_uri": "https://localhost:8080/",
          "height": 34
        },
        "outputId": "f2ced2d4-9f2c-4b8c-c399-7b6a14ef99c9"
      },
      "source": [
        "def knap(wt, val, w, n):\n",
        "  if n==0 or w==0:\n",
        "    return 0\n",
        "  else:\n",
        "    if wt[n-1]<=w:\n",
        "      return max(val[n-1] + knap(wt, val, w-wt[n-1], n-1), knap(wt, val, w, n-1))\n",
        "    else:\n",
        "      return knap(wt, val, w, n-1)\n",
        "\n",
        "n = len(wt)\n",
        "knap(wt, val, w, n)"
      ],
      "execution_count": 6,
      "outputs": [
        {
          "output_type": "execute_result",
          "data": {
            "text/plain": [
              "220"
            ]
          },
          "metadata": {
            "tags": []
          },
          "execution_count": 6
        }
      ]
    },
    {
      "cell_type": "markdown",
      "metadata": {
        "id": "4Wm5oFkCMf9Q",
        "colab_type": "text"
      },
      "source": [
        "##Memorization"
      ]
    },
    {
      "cell_type": "code",
      "metadata": {
        "id": "ZCVKMkkJL6Mh",
        "colab_type": "code",
        "colab": {
          "base_uri": "https://localhost:8080/",
          "height": 34
        },
        "outputId": "70f31c3c-5c86-4c98-b859-1f97211e4ef2"
      },
      "source": [
        "def knap(wt, val, w, n, dp):\n",
        "  if n==0 or w==0:\n",
        "    return 0\n",
        "  else:\n",
        "    if dp[w][n] == -1:\n",
        "      if wt[n-1]<=w:\n",
        "        dp[w][n] =  max(val[n-1] + knap(wt, val, w-wt[n-1], n-1, dp), knap(wt, val, w, n-1, dp))\n",
        "      else:\n",
        "        dp[w][n] = knap(wt, val, w, n-1, dp)\n",
        "\n",
        "      return dp[w][n]\n",
        "\n",
        "    else:\n",
        "      return dp[w][n]\n",
        "\n",
        "n = len(wt)\n",
        "dp = []##dp[w+1][n+1]\n",
        "for _ in range(w+1):\n",
        "  dp.append([-1]*(n+1))\n",
        "knap(wt, val, w, n, dp)"
      ],
      "execution_count": 8,
      "outputs": [
        {
          "output_type": "execute_result",
          "data": {
            "text/plain": [
              "220"
            ]
          },
          "metadata": {
            "tags": []
          },
          "execution_count": 8
        }
      ]
    },
    {
      "cell_type": "markdown",
      "metadata": {
        "id": "cdx31P_tQMEQ",
        "colab_type": "text"
      },
      "source": [
        "## Top down"
      ]
    },
    {
      "cell_type": "code",
      "metadata": {
        "id": "zqBynGL0QFiA",
        "colab_type": "code",
        "colab": {
          "base_uri": "https://localhost:8080/",
          "height": 34
        },
        "outputId": "40fa76f8-ce79-4de2-fa79-df3927aa8b0b"
      },
      "source": [
        "def knap(wt, val, w, n, dp):\n",
        "  for i in range(w+1):\n",
        "    for j in range(n+1):\n",
        "      if i==0 or j==0:\n",
        "        dp[i][j] = 0\n",
        "\n",
        "  for i in range(1,w+1):\n",
        "    for j in range(1,n+1):\n",
        "      if wt[j-1]<=i:\n",
        "        dp[i][j] = max(val[j-1]+dp[i-wt[j-1]][j-1], dp[i][j-1])\n",
        "      else:\n",
        "        dp[i][j] = dp[i][j-1]\n",
        "  return dp[w][n]\n",
        "n = len(wt)\n",
        "dp = []##dp[w+1][n+1]\n",
        "for _ in range(w+1):\n",
        "  dp.append([-1]*(n+1))\n",
        "knap(wt, val, w, n, dp)"
      ],
      "execution_count": 9,
      "outputs": [
        {
          "output_type": "execute_result",
          "data": {
            "text/plain": [
              "220"
            ]
          },
          "metadata": {
            "tags": []
          },
          "execution_count": 9
        }
      ]
    },
    {
      "cell_type": "code",
      "metadata": {
        "id": "ncF1F7WdTDrs",
        "colab_type": "code",
        "colab": {}
      },
      "source": [
        ""
      ],
      "execution_count": null,
      "outputs": []
    }
  ]
}