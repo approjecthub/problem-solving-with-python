{
  "nbformat": 4,
  "nbformat_minor": 0,
  "metadata": {
    "colab": {
      "name": "Palindrome Partitioning.ipynb",
      "provenance": [],
      "authorship_tag": "ABX9TyOCMOdsErDxibC05hHPkw3Z",
      "include_colab_link": true
    },
    "kernelspec": {
      "name": "python3",
      "display_name": "Python 3"
    }
  },
  "cells": [
    {
      "cell_type": "markdown",
      "metadata": {
        "id": "view-in-github",
        "colab_type": "text"
      },
      "source": [
        "<a href=\"https://colab.research.google.com/github/approjecthub/problem-solving-with-python/blob/master/dynamic%20programming/Palindrome_Partitioning.ipynb\" target=\"_parent\"><img src=\"https://colab.research.google.com/assets/colab-badge.svg\" alt=\"Open In Colab\"/></a>"
      ]
    },
    {
      "cell_type": "markdown",
      "metadata": {
        "id": "vMr8vDYLOVEy",
        "colab_type": "text"
      },
      "source": [
        "https://www.geeksforgeeks.org/palindrome-partitioning-dp-17/"
      ]
    },
    {
      "cell_type": "code",
      "metadata": {
        "id": "08SypHZlOXYn",
        "colab_type": "code",
        "colab": {
          "base_uri": "https://localhost:8080/",
          "height": 34
        },
        "outputId": "9a499b95-112a-419f-f204-73296c7d5f03"
      },
      "source": [
        "#recursive\n",
        "\n",
        "def pp(word, i,j):\n",
        "  if i>=j or word[i:j+1]==word[i:j+1][::-1]:\n",
        "    return 0\n",
        "\n",
        "  else:\n",
        "    ans = float('inf')\n",
        "    for k in range(i,j):\n",
        "      temp = pp(word, i, k) + 1 + pp(word, k+1, j)#pp(word, i, k) + 1 + pp(word, k+1, j)\n",
        "\n",
        "      ans = min(temp, ans)\n",
        "\n",
        "    return ans\n",
        "\n",
        "word = 'coder'\n",
        "pp(word, 0, len(word))"
      ],
      "execution_count": 20,
      "outputs": [
        {
          "output_type": "execute_result",
          "data": {
            "text/plain": [
              "4"
            ]
          },
          "metadata": {
            "tags": []
          },
          "execution_count": 20
        }
      ]
    },
    {
      "cell_type": "markdown",
      "metadata": {
        "id": "i9EG8DBDaFD6",
        "colab_type": "text"
      },
      "source": [
        "https://leetcode.com/problems/palindrome-partitioning-ii/submissions/"
      ]
    },
    {
      "cell_type": "code",
      "metadata": {
        "id": "JCk2m-AkQjYb",
        "colab_type": "code",
        "colab": {
          "base_uri": "https://localhost:8080/",
          "height": 34
        },
        "outputId": "2dc20033-dbc5-466e-a02c-919190f13eb3"
      },
      "source": [
        "#memorization\n",
        "\n",
        "def pp(word, i,j, dp):\n",
        "  if dp[i][j] != -1:\n",
        "    return dp[i][j]\n",
        "\n",
        "  if i>=j or word[i:j+1]==word[i:j+1][::-1]:\n",
        "    return 0\n",
        "\n",
        "  else:\n",
        "    if dp[i][j]==-1:\n",
        "      ans = float('inf')\n",
        "      for k in range(i,j):#i to j-1\n",
        "        temp = pp(word, i, k, dp) + 1 + pp(word, k+1, j, dp)\n",
        "\n",
        "        ans = min(temp, ans)\n",
        "\n",
        "      dp[i][j] = ans\n",
        "    return dp[i][j]\n",
        "\n",
        "\n",
        "#word = \"apjesgpsxoeiokmqmfgvjslcjukbqxpsobyhjpbgdfruqdkeiszrlmtwgfxyfostpqczidfljwfbbrflkgdvtytbgqalguewnhvvmcgxboycffopmtmhtfizxkmeftcucxpobxmelmjtuzigsxnncxpaibgpuijwhankxbplpyejxmrrjgeoevqozwdtgospohznkoyzocjlracchjqnggbfeebmuvbicbvmpuleywrpzwsihivnrwtxcukwplgtobhgxukwrdlszfaiqxwjvrgxnsveedxseeyeykarqnjrtlaliyudpacctzizcftjlunlgnfwcqqxcqikocqffsjyurzwysfjmswvhbrmshjuzsgpwyubtfbnwajuvrfhlccvfwhxfqthkcwhatktymgxostjlztwdxritygbrbibdgkezvzajizxasjnrcjwzdfvdnwwqeyumkamhzoqhnqjfzwzbixclcxqrtniznemxeahfozp\"\n",
        "word = \"adabdcaebdcebdcacaaaadbbcadabcbeabaadcbcaaddebdbddcbdacdbbaedbdaaecabdceddccbdeeddccdaabbabbdedaaabcdadbdabeacbeadbaddcbaacdbabcccbaceedbcccedbeecbccaecadccbdbdccbcbaacccbddcccbaedbacdbcaccdcaadcbaebebcceabbdcdeaabdbabadeaaaaedbdbcebcbddebccacacddebecabccbbdcbecbaeedcdacdcbdbebbacddddaabaedabbaaabaddcdaadcccdeebcabacdadbaacdccbeceddeebbbdbaaaaabaeecccaebdeabddacbedededebdebabdbcbdcbadbeeceecdcdbbdcbdbeeebcdcabdeeacabdeaedebbcaacdadaecbccbededceceabdcabdeabbcdecdedadcaebaababeedcaacdbdacbccdbcece\"\n",
        "dp = []\n",
        "n = len(word)\n",
        "\n",
        "for _ in range(n+1):\n",
        "  dp.append([-1]*(n+1))\n",
        "\n",
        "\n",
        "pp(word, 0, n, dp)"
      ],
      "execution_count": 2,
      "outputs": [
        {
          "output_type": "execute_result",
          "data": {
            "text/plain": [
              "273"
            ]
          },
          "metadata": {
            "tags": []
          },
          "execution_count": 2
        }
      ]
    },
    {
      "cell_type": "code",
      "metadata": {
        "id": "rdaWPnfEYK7M",
        "colab_type": "code",
        "colab": {}
      },
      "source": [
        ""
      ],
      "execution_count": null,
      "outputs": []
    }
  ]
}