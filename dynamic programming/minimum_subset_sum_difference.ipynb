{
  "nbformat": 4,
  "nbformat_minor": 0,
  "metadata": {
    "colab": {
      "name": "minimum subset sum difference.ipynb",
      "provenance": [],
      "authorship_tag": "ABX9TyOS4cLFI1em8SRAQx5pDVxq",
      "include_colab_link": true
    },
    "kernelspec": {
      "name": "python3",
      "display_name": "Python 3"
    }
  },
  "cells": [
    {
      "cell_type": "markdown",
      "metadata": {
        "id": "view-in-github",
        "colab_type": "text"
      },
      "source": [
        "<a href=\"https://colab.research.google.com/github/approjecthub/problem-solving-with-python/blob/master/dynamic%20programming/minimum_subset_sum_difference.ipynb\" target=\"_parent\"><img src=\"https://colab.research.google.com/assets/colab-badge.svg\" alt=\"Open In Colab\"/></a>"
      ]
    },
    {
      "cell_type": "code",
      "metadata": {
        "id": "1HB_QsQyRdy2",
        "colab_type": "code",
        "colab": {}
      },
      "source": [
        "#i/p : \n",
        "arr = [1,6,11,5]\n",
        "\n",
        "#o/p : 1, explanation: (11), (1,6,5) are the two subsets whose difference of sum is minimum"
      ],
      "execution_count": 8,
      "outputs": []
    },
    {
      "cell_type": "markdown",
      "metadata": {
        "id": "-gw33MSwTC3S",
        "colab_type": "text"
      },
      "source": [
        "##Recursion"
      ]
    },
    {
      "cell_type": "code",
      "metadata": {
        "id": "TVporXoVS-dV",
        "colab_type": "code",
        "colab": {
          "base_uri": "https://localhost:8080/",
          "height": 34
        },
        "outputId": "f9d4120d-3ed2-469a-fc54-9f30134e118d"
      },
      "source": [
        "def mss(arr, ss1, n, total):\n",
        "  if n==0:\n",
        "    ss2 = total - ss1\n",
        "    return abs(ss2-ss1)\n",
        "\n",
        "  else:\n",
        "    return min(mss(arr, ss1 + arr[n-1], n-1, total), mss(arr, ss1, n-1, total))\n",
        "\n",
        "mss(arr, 0, len(arr), sum(arr))"
      ],
      "execution_count": 9,
      "outputs": [
        {
          "output_type": "execute_result",
          "data": {
            "text/plain": [
              "1"
            ]
          },
          "metadata": {
            "tags": []
          },
          "execution_count": 9
        }
      ]
    },
    {
      "cell_type": "markdown",
      "metadata": {
        "id": "RAeCeZT0UVBL",
        "colab_type": "text"
      },
      "source": [
        "##Memorization"
      ]
    },
    {
      "cell_type": "code",
      "metadata": {
        "id": "MV3lCVd1UBdD",
        "colab_type": "code",
        "colab": {
          "base_uri": "https://localhost:8080/",
          "height": 34
        },
        "outputId": "9e41bc4f-7164-4820-baf7-90058a84addf"
      },
      "source": [
        "def mss(arr, ss1, n, total, dp):\n",
        "  if n==0:\n",
        "    ss2 = total - ss1\n",
        "    return abs(ss2-ss1)\n",
        "\n",
        "  else:\n",
        "    if dp[n][ss1] == -1:\n",
        "      dp[n][ss1] =  min(mss(arr, ss1 + arr[n-1], n-1, total, dp), mss(arr, ss1, n-1, total, dp))\n",
        "    return dp[n][ss1]\n",
        "\n",
        "n = len(arr)\n",
        "total = sum(arr)\n",
        "\n",
        "dp = []\n",
        "\n",
        "for _ in range(n+1):\n",
        "  dp.append([-1]*(total +1))\n",
        "\n",
        "mss(arr, 0, n, total, dp)"
      ],
      "execution_count": 10,
      "outputs": [
        {
          "output_type": "execute_result",
          "data": {
            "text/plain": [
              "1"
            ]
          },
          "metadata": {
            "tags": []
          },
          "execution_count": 10
        }
      ]
    },
    {
      "cell_type": "code",
      "metadata": {
        "id": "ATmfWez7W1MM",
        "colab_type": "code",
        "colab": {}
      },
      "source": [
        ""
      ],
      "execution_count": null,
      "outputs": []
    }
  ]
}