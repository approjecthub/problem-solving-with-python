{
  "nbformat": 4,
  "nbformat_minor": 0,
  "metadata": {
    "colab": {
      "name": "subset sum.ipynb",
      "provenance": [],
      "authorship_tag": "ABX9TyNdlJFrIJfLYMgymtGVvbeV",
      "include_colab_link": true
    },
    "kernelspec": {
      "name": "python3",
      "display_name": "Python 3"
    }
  },
  "cells": [
    {
      "cell_type": "markdown",
      "metadata": {
        "id": "view-in-github",
        "colab_type": "text"
      },
      "source": [
        "<a href=\"https://colab.research.google.com/github/approjecthub/problem-solving-with-python/blob/master/dynamic%20programming/subset_sum.ipynb\" target=\"_parent\"><img src=\"https://colab.research.google.com/assets/colab-badge.svg\" alt=\"Open In Colab\"/></a>"
      ]
    },
    {
      "cell_type": "code",
      "metadata": {
        "id": "ninlhZejTuR9",
        "colab_type": "code",
        "colab": {}
      },
      "source": [
        "arr = [2,3,7,8,10]\n",
        "req_sum = 1\n",
        "\n",
        "##check if there is subset in arr[] where sum is equal to the req_sum\n",
        "#o/p : yes/no"
      ],
      "execution_count": null,
      "outputs": []
    },
    {
      "cell_type": "markdown",
      "metadata": {
        "id": "jP7fynF-U9MY",
        "colab_type": "text"
      },
      "source": [
        "## Recursive version"
      ]
    },
    {
      "cell_type": "code",
      "metadata": {
        "id": "u0ZxDb60U_js",
        "colab_type": "code",
        "colab": {
          "base_uri": "https://localhost:8080/",
          "height": 34
        },
        "outputId": "8d55f789-153d-4cf8-b0e0-c7cd6f69875a"
      },
      "source": [
        "def ss(arr, req_sum, n):\n",
        "  if req_sum==0:\n",
        "    return True\n",
        "  elif n==0:\n",
        "    return False\n",
        "  else:\n",
        "    \n",
        "    if arr[n-1]<= req_sum:\n",
        "      return ss(arr, req_sum -arr[n-1], n-1) or ss(arr, req_sum, n-1)\n",
        "    else:\n",
        "      return ss(arr, req_sum, n-1)\n",
        "\n",
        "n = len(arr)\n",
        "ss(arr, req_sum, n)"
      ],
      "execution_count": null,
      "outputs": [
        {
          "output_type": "execute_result",
          "data": {
            "text/plain": [
              "False"
            ]
          },
          "metadata": {
            "tags": []
          },
          "execution_count": 7
        }
      ]
    },
    {
      "cell_type": "markdown",
      "metadata": {
        "id": "edXiWXubYaFv",
        "colab_type": "text"
      },
      "source": [
        "## Memorization"
      ]
    },
    {
      "cell_type": "code",
      "metadata": {
        "id": "6AmhYerEXS6n",
        "colab_type": "code",
        "colab": {
          "base_uri": "https://localhost:8080/",
          "height": 34
        },
        "outputId": "cd1f9d99-8bcc-4901-8d9c-8401b458a3fe"
      },
      "source": [
        "def ss(arr, req_sum, n, dp):\n",
        "  if req_sum==0:\n",
        "    return True\n",
        "  elif n==0:\n",
        "    return False\n",
        "  else:\n",
        "    if dp[req_sum][n]==-1:\n",
        "      if arr[n-1]<= req_sum:\n",
        "        dp[req_sum][n] = ss(arr, req_sum -arr[n-1], n-1, dp) or ss(arr, req_sum, n-1, dp)\n",
        "      else:\n",
        "        dp[req_sum][n] = ss(arr, req_sum, n-1, dp)\n",
        "      return dp[req_sum][n]\n",
        "    else:\n",
        "      return dp[req_sum][n]\n",
        "n = len(arr)\n",
        "dp = []\n",
        "for _ in range(req_sum + 1):\n",
        "  dp.append([-1]*(n+1)) ##dp[req_sum+1][n+1]\n",
        "ss(arr, req_sum, n,dp)"
      ],
      "execution_count": null,
      "outputs": [
        {
          "output_type": "execute_result",
          "data": {
            "text/plain": [
              "False"
            ]
          },
          "metadata": {
            "tags": []
          },
          "execution_count": 10
        }
      ]
    },
    {
      "cell_type": "markdown",
      "metadata": {
        "id": "h53Ak7_wMaUX",
        "colab_type": "text"
      },
      "source": [
        "##Top down"
      ]
    },
    {
      "cell_type": "code",
      "metadata": {
        "id": "ywDkds3ADl0o",
        "colab_type": "code",
        "colab": {
          "base_uri": "https://localhost:8080/",
          "height": 34
        },
        "outputId": "394d3f09-3d2c-44fe-b7c5-4647a8d4bf9a"
      },
      "source": [
        "def ss(arr, req_sum, n, dp):\n",
        "  for i in range(req_sum+1):\n",
        "    for j in range(n+1):\n",
        "      if i==0:\n",
        "        dp[i][j] = True\n",
        "      elif j==0:\n",
        "        dp[i][j] = False\n",
        "  \n",
        "  for i in range(1,req_sum+1):\n",
        "    for j in range(1,n+1):\n",
        "      if arr[j-1] <= i:\n",
        "        dp[i][j] = dp[i - arr[j-1]][j-1] or dp[i][j-1]\n",
        "      else:\n",
        "        dp[i][j] = dp[i][j-1]\n",
        "\n",
        "  return dp[req_sum][n]\n",
        "\n",
        "n = len(arr)\n",
        "dp = []\n",
        "for _ in range(req_sum + 1):\n",
        "  dp.append([-1]*(n+1)) ##dp[req_sum+1][n+1]\n",
        "ss(arr, req_sum, n,dp)"
      ],
      "execution_count": null,
      "outputs": [
        {
          "output_type": "execute_result",
          "data": {
            "text/plain": [
              "False"
            ]
          },
          "metadata": {
            "tags": []
          },
          "execution_count": 12
        }
      ]
    },
    {
      "cell_type": "code",
      "metadata": {
        "id": "B9MGk0U4HBCp",
        "colab_type": "code",
        "colab": {}
      },
      "source": [
        ""
      ],
      "execution_count": null,
      "outputs": []
    }
  ]
}