{
  "nbformat": 4,
  "nbformat_minor": 0,
  "metadata": {
    "colab": {
      "name": "count of subsets of a given sum.ipynb",
      "provenance": [],
      "authorship_tag": "ABX9TyNN8SIT6DC2Wz54BQPTNpPT",
      "include_colab_link": true
    },
    "kernelspec": {
      "name": "python3",
      "display_name": "Python 3"
    }
  },
  "cells": [
    {
      "cell_type": "markdown",
      "metadata": {
        "id": "view-in-github",
        "colab_type": "text"
      },
      "source": [
        "<a href=\"https://colab.research.google.com/github/approjecthub/problem-solving-with-python/blob/master/dynamic%20programming/count_of_subsets_of_a_given_sum.ipynb\" target=\"_parent\"><img src=\"https://colab.research.google.com/assets/colab-badge.svg\" alt=\"Open In Colab\"/></a>"
      ]
    },
    {
      "cell_type": "code",
      "metadata": {
        "id": "dMyIGCGxOWpK",
        "colab_type": "code",
        "colab": {}
      },
      "source": [
        "#i/p :\n",
        "arr = [2,3,5,6,8,10]\n",
        "req_sum = 10\n",
        "\n",
        "#o/p : 3, explanation: possible of sum equal to 10 is (2,8), (10), (5,2,3)"
      ],
      "execution_count": 1,
      "outputs": []
    },
    {
      "cell_type": "markdown",
      "metadata": {
        "id": "p6YommphRKPc",
        "colab_type": "text"
      },
      "source": [
        "##Top down"
      ]
    },
    {
      "cell_type": "code",
      "metadata": {
        "id": "u8WNy_juPkS5",
        "colab_type": "code",
        "colab": {
          "base_uri": "https://localhost:8080/",
          "height": 34
        },
        "outputId": "f0016e3e-be2c-466b-a655-5221be7d18f7"
      },
      "source": [
        "def ss(arr, req_sum, n, dp):\n",
        "  for i in range(req_sum+1):\n",
        "    for j in range(n+1):\n",
        "      if i==0:\n",
        "        dp[i][j] = 1\n",
        "      elif j==0:\n",
        "        dp[i][j] = 0\n",
        "  \n",
        "  for i in range(1,req_sum+1):\n",
        "    for j in range(1,n+1):\n",
        "      if arr[j-1] <= i:\n",
        "        dp[i][j] = dp[i - arr[j-1]][j-1] + dp[i][j-1]\n",
        "      else:\n",
        "        dp[i][j] = dp[i][j-1]\n",
        "\n",
        "  return dp[req_sum][n]\n",
        "\n",
        "n = len(arr)\n",
        "dp = []\n",
        "for _ in range(req_sum+1):\n",
        "  dp.append([-1]*(n+1))\n",
        "\n",
        "ss(arr, req_sum, n, dp)"
      ],
      "execution_count": 2,
      "outputs": [
        {
          "output_type": "execute_result",
          "data": {
            "text/plain": [
              "3"
            ]
          },
          "metadata": {
            "tags": []
          },
          "execution_count": 2
        }
      ]
    },
    {
      "cell_type": "code",
      "metadata": {
        "id": "R8MEI3vxRHiZ",
        "colab_type": "code",
        "colab": {}
      },
      "source": [
        ""
      ],
      "execution_count": null,
      "outputs": []
    }
  ]
}