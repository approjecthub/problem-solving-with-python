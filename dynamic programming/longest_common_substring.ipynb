{
  "nbformat": 4,
  "nbformat_minor": 0,
  "metadata": {
    "colab": {
      "name": "longest common substring.ipynb",
      "provenance": [],
      "authorship_tag": "ABX9TyPL6CaxpnolX2ZGilEqMdfu",
      "include_colab_link": true
    },
    "kernelspec": {
      "name": "python3",
      "display_name": "Python 3"
    }
  },
  "cells": [
    {
      "cell_type": "markdown",
      "metadata": {
        "id": "view-in-github",
        "colab_type": "text"
      },
      "source": [
        "<a href=\"https://colab.research.google.com/github/approjecthub/problem-solving-with-python/blob/master/dynamic%20programming/longest_common_substring.ipynb\" target=\"_parent\"><img src=\"https://colab.research.google.com/assets/colab-badge.svg\" alt=\"Open In Colab\"/></a>"
      ]
    },
    {
      "cell_type": "markdown",
      "metadata": {
        "id": "bLXI0HdPdzMJ"
      },
      "source": [
        "https://www.youtube.com/watch?v=HrybPYpOvz0&list=PL_z_8CaSLPWekqhdCPmFohncHwz8TY2Go&index=22\r\n",
        "\r\n",
        "https://www.geeksforgeeks.org/longest-common-substring-dp-29/"
      ]
    },
    {
      "cell_type": "code",
      "metadata": {
        "colab": {
          "base_uri": "https://localhost:8080/"
        },
        "id": "m0iMTDktdkUT",
        "outputId": "92920d4c-c05b-454e-b8c3-7b8a5d0ed608"
      },
      "source": [
        "s1 = 'abcdxyz'\r\n",
        "s2 = 'xyzabcd'\r\n",
        "\r\n",
        "m = len(s1)\r\n",
        "n = len(s2)\r\n",
        "\r\n",
        "##recursive:(couldn't find a better way in gfg)\r\n",
        "\r\n",
        "def func(m,n,count, s1,s2):\r\n",
        "  global maxc\r\n",
        "  if m==0 or n==0:\r\n",
        "    \r\n",
        "    return \r\n",
        "  elif s1[m-1] == s2[n-1]:\r\n",
        "    count += 1\r\n",
        "    \r\n",
        "    maxc = max(count, maxc)\r\n",
        "    func(m-1,n-1,count, s1,s2)\r\n",
        "  else:\r\n",
        "    func(m-1,n,0, s1,s2)\r\n",
        "    func(m,n-1,0, s1,s2)\r\n",
        "\r\n",
        "\r\n",
        "c = 0\r\n",
        "maxc = 0\r\n",
        "func(m,n,c,s1,s2)\r\n",
        "print(maxc)"
      ],
      "execution_count": 15,
      "outputs": [
        {
          "output_type": "stream",
          "text": [
            "4\n"
          ],
          "name": "stdout"
        }
      ]
    },
    {
      "cell_type": "code",
      "metadata": {
        "colab": {
          "base_uri": "https://localhost:8080/"
        },
        "id": "SyKm3DsIpcyP",
        "outputId": "8c4004eb-c222-46a8-f2ec-46a4e21bc855"
      },
      "source": [
        "s1 = 'GeeksforGeeks'\r\n",
        "s2 = 'GeeksQuiz'\r\n",
        "\r\n",
        "m = len(s1)\r\n",
        "n = len(s2)\r\n",
        "\r\n",
        "##recursive:(couldn't find a better way in gfg)\r\n",
        "\r\n",
        "def func(m,n,c, s1,s2):\r\n",
        "  \r\n",
        "  if m==0 or n==0:   \r\n",
        "    return c\r\n",
        "  elif s1[m-1] == s2[n-1]:\r\n",
        "    c+=1\r\n",
        "    c= max(func(m-1,n-1,c, s1,s2),c)\r\n",
        "  else:\r\n",
        "    c = max(func(m-1,n,0, s1,s2),func(m,n-1,0, s1,s2),c)\r\n",
        "  return c\r\n",
        "\r\n",
        "\r\n",
        "c = 0\r\n",
        "maxc = 0\r\n",
        "print(func(m,n,c,s1,s2))\r\n"
      ],
      "execution_count": 21,
      "outputs": [
        {
          "output_type": "stream",
          "text": [
            "5\n"
          ],
          "name": "stdout"
        }
      ]
    },
    {
      "cell_type": "code",
      "metadata": {
        "id": "O6LnAqw9svLg"
      },
      "source": [
        ""
      ],
      "execution_count": null,
      "outputs": []
    }
  ]
}